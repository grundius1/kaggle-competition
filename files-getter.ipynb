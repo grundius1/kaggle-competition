{
 "cells": [
  {
   "cell_type": "code",
   "execution_count": 1,
   "metadata": {},
   "outputs": [],
   "source": [
    "import os\n",
    "import kaggle\n",
    "from kaggle.api.kaggle_api_extended import KaggleApi\n",
    "import zipfile"
   ]
  },
  {
   "cell_type": "code",
   "execution_count": 2,
   "metadata": {},
   "outputs": [],
   "source": [
    "api = KaggleApi()\n",
    "api.authenticate()"
   ]
  },
  {
   "cell_type": "code",
   "execution_count": 3,
   "metadata": {},
   "outputs": [],
   "source": [
    "competition = \"diamonds-datamad0820\""
   ]
  },
  {
   "cell_type": "code",
   "execution_count": 4,
   "metadata": {},
   "outputs": [],
   "source": [
    "def get_files(competition, path = \"inputs/\"):\n",
    "    #files = api.competitions_data_list_files(f'{competition}')\n",
    "    api.competition_download_files(f'{competition}', path = path)\n",
    "    for dirname, _, filenames in os.walk(path):\n",
    "        print(filenames)\n",
    "        for filename in filenames:\n",
    "            print(filename)\n",
    "            if \".zip\" not in filename:\n",
    "                pass\n",
    "            else:\n",
    "                zip = zipfile.ZipFile(f'{path}{filename}')\n",
    "                zip.extractall(path= path)"
   ]
  },
  {
   "cell_type": "code",
   "execution_count": 5,
   "metadata": {},
   "outputs": [
    {
     "name": "stdout",
     "output_type": "stream",
     "text": [
      "['sample_submission.csv', 'diamonds-datamad0820.zip', 'train.csv', 'predict.csv']\n",
      "sample_submission.csv\n",
      "diamonds-datamad0820.zip\n",
      "train.csv\n",
      "predict.csv\n"
     ]
    }
   ],
   "source": [
    "get_files(competition)"
   ]
  },
  {
   "cell_type": "code",
   "execution_count": null,
   "metadata": {},
   "outputs": [],
   "source": []
  },
  {
   "cell_type": "code",
   "execution_count": null,
   "metadata": {},
   "outputs": [],
   "source": []
  },
  {
   "cell_type": "code",
   "execution_count": null,
   "metadata": {},
   "outputs": [],
   "source": []
  }
 ],
 "metadata": {
  "kernelspec": {
   "display_name": "Python 3",
   "language": "python",
   "name": "python3"
  },
  "language_info": {
   "codemirror_mode": {
    "name": "ipython",
    "version": 3
   },
   "file_extension": ".py",
   "mimetype": "text/x-python",
   "name": "python",
   "nbconvert_exporter": "python",
   "pygments_lexer": "ipython3",
   "version": "3.8.2"
  }
 },
 "nbformat": 4,
 "nbformat_minor": 4
}
