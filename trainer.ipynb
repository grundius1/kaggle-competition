{
 "cells": [
  {
   "cell_type": "code",
   "execution_count": 1,
   "metadata": {},
   "outputs": [],
   "source": [
    "import pandas as pd\n",
    "from sklearn.model_selection import train_test_split\n",
    "import numpy as np\n",
    "from math import sqrt"
   ]
  },
  {
   "cell_type": "code",
   "execution_count": 2,
   "metadata": {},
   "outputs": [],
   "source": [
    "data1 = pd.read_csv('output/train_all.csv', index_col=0)\n",
    "data2 = pd.read_csv('output/train_some.csv', index_col=0)"
   ]
  },
  {
   "cell_type": "code",
   "execution_count": 3,
   "metadata": {},
   "outputs": [
    {
     "data": {
      "text/plain": [
       "(       carat  cut2  color2  clarity2  depth  table     x     y     z\n",
       " id                                                                  \n",
       " 0       1.12     3       4         2   61.6   59.0  6.67  6.63  4.10\n",
       " 1       1.14     4       1         3   60.0   54.0  6.74  6.97  4.11\n",
       " 2       0.90     4       0         3   60.3   63.0  6.12  6.22  3.72\n",
       " 3       0.71     2       1         4   61.9   54.0  5.74  5.76  3.56\n",
       " 4       0.34     4       2         3   60.0   62.0  4.51  4.55  2.72\n",
       " ...      ...   ...     ...       ...    ...    ...   ...   ...   ...\n",
       " 40450   0.90     1       0         2   63.8   58.0  6.13  6.09  3.90\n",
       " 40451   0.35     2       0         6   62.0   54.0  4.56  4.57  2.83\n",
       " 40452   0.90     1       3         3   58.4   55.0  6.34  6.39  3.72\n",
       " 40453   1.21     1       4         2   63.6   56.0  6.63  6.68  4.23\n",
       " 40454   0.41     2       4         6   61.4   56.0  4.80  4.77  2.94\n",
       " \n",
       " [40455 rows x 9 columns],\n",
       "        price\n",
       " id          \n",
       " 0       5363\n",
       " 1       5593\n",
       " 2       3534\n",
       " 3       3212\n",
       " 4        447\n",
       " ...      ...\n",
       " 40450   4120\n",
       " 40451   1266\n",
       " 40452   3269\n",
       " 40453   5893\n",
       " 40454   1115\n",
       " \n",
       " [40455 rows x 1 columns])"
      ]
     },
     "execution_count": 3,
     "metadata": {},
     "output_type": "execute_result"
    }
   ],
   "source": [
    "data1_datos = data1[[\"carat\",\"cut2\",\"color2\",\"clarity2\",\"depth\",\"table\",\"x\",\"y\",\"z\"]]\n",
    "data1_target = data1[[\"price\"]]\n",
    "data1_datos,data1_target"
   ]
  },
  {
   "cell_type": "code",
   "execution_count": 4,
   "metadata": {},
   "outputs": [
    {
     "data": {
      "text/plain": [
       "(       carat  cut2  color2  clarity2     x     y     z\n",
       " id                                                    \n",
       " 0       1.12     3       4         2  6.67  6.63  4.10\n",
       " 1       1.14     4       1         3  6.74  6.97  4.11\n",
       " 2       0.90     4       0         3  6.12  6.22  3.72\n",
       " 3       0.71     2       1         4  5.74  5.76  3.56\n",
       " 4       0.34     4       2         3  4.51  4.55  2.72\n",
       " ...      ...   ...     ...       ...   ...   ...   ...\n",
       " 40450   0.90     1       0         2  6.13  6.09  3.90\n",
       " 40451   0.35     2       0         6  4.56  4.57  2.83\n",
       " 40452   0.90     1       3         3  6.34  6.39  3.72\n",
       " 40453   1.21     1       4         2  6.63  6.68  4.23\n",
       " 40454   0.41     2       4         6  4.80  4.77  2.94\n",
       " \n",
       " [40455 rows x 7 columns],\n",
       "        price\n",
       " id          \n",
       " 0       5363\n",
       " 1       5593\n",
       " 2       3534\n",
       " 3       3212\n",
       " 4        447\n",
       " ...      ...\n",
       " 40450   4120\n",
       " 40451   1266\n",
       " 40452   3269\n",
       " 40453   5893\n",
       " 40454   1115\n",
       " \n",
       " [40455 rows x 1 columns])"
      ]
     },
     "execution_count": 4,
     "metadata": {},
     "output_type": "execute_result"
    }
   ],
   "source": [
    "data2_datos = data2[[\"carat\",\"cut2\",\"color2\",\"clarity2\",\"x\",\"y\",\"z\"]]\n",
    "data2_target = data2[[\"price\"]]\n",
    "data2_datos,data2_target"
   ]
  },
  {
   "cell_type": "code",
   "execution_count": 5,
   "metadata": {},
   "outputs": [],
   "source": [
    "from sklearn import linear_model as ln\n",
    "from sklearn import svm \n",
    "from sklearn import tree\n",
    "from sklearn import neural_network as nn\n",
    "from sklearn.ensemble import RandomForestRegressor,GradientBoostingRegressor,AdaBoostRegressor,ExtraTreesRegressor"
   ]
  },
  {
   "cell_type": "code",
   "execution_count": 6,
   "metadata": {},
   "outputs": [],
   "source": [
    "models = {\n",
    "    #\"linear_reg\": ln.LinearRegression(),\n",
    "    #\"linear_ridge\": ln.Ridge(),\n",
    "    #\"linear_lasso\":ln.Lasso(),\n",
    "    #\"linear_miltitasklasso\": ln.MultiTaskLasso(),\n",
    "    #\"linear_elastic\": ln.ElasticNet(),\n",
    "    #\"linear_elasticmulti\":ln.MultiTaskElasticNet(),\n",
    "    #\"linear_lassolars\": ln.LassoLars(),\n",
    "    #\"linear_orthogonal\": ln.OrthogonalMatchingPursuit(),\n",
    "    #\"linear_bayesian\":ln.BayesianRidge(),\n",
    "    #\"linear_logistic\":ln.LogisticRegression(),\n",
    "    #\"linear_Generalized\":ln.TweedieRegressor(),\n",
    "    #\"linear_stockastic\":ln.SGDRegressor(),\n",
    "    #\"linear_passiveaggresive\":ln.PassiveAggressiveRegressor(max_iter=10000000),\n",
    "    #\"SVR\": svm.SVR(),\n",
    "    #\"Linear_SVR\": svm.LinearSVR(),\n",
    "    #\"tree\":tree.DecisionTreeRegressor(),\n",
    "    #\"neural_network\": nn.MLPRegressor(alpha=0.001),\n",
    "    \"regression\": RandomForestRegressor(),\n",
    "    \"GBR\":GradientBoostingRegressor(),\n",
    "    #\"ADA\":AdaBoostRegressor(),\n",
    "    \"extra\":ExtraTreesRegressor(n_jobs=-1)\n",
    "    \n",
    "}"
   ]
  },
  {
   "cell_type": "code",
   "execution_count": 7,
   "metadata": {
    "scrolled": false
   },
   "outputs": [
    {
     "data": {
      "text/plain": [
       "'\\nX_train,X_test,y_train,y_test = train_test_split(data1_datos,data1_target, test_size = 0.2)\\nfor name,model in models.items():\\n    model.fit(X_train,y_train)\\n    y_pred = model.predict(X_test)\\n    print(f\"0 expvariance {name}\", round(explained_variance_score(y_test,y_pred),3))\\n    print(f\"0 maxerr {name}\", round(max_error(y_test,y_pred),3))\\n    print(f\"0 meanabserr {name}\", round(mean_absolute_error(y_test,y_pred),3))\\n    print(f\"0 meansqr {name}\", round(mean_squared_error(y_test,y_pred),3))\\n    print(f\"0 root meansqr {name}\", round(sqrt(mean_squared_error(y_test,y_pred)),3))\\n    print(f\"0 meanabserr {name}\", round(median_absolute_error(y_test,y_pred),3))\\n    print(f\"0 r2-score {name}\", round(r2_score(y_test,y_pred),3))\\n    print(\"-------------------\")\\n    \\n    '"
      ]
     },
     "execution_count": 7,
     "metadata": {},
     "output_type": "execute_result"
    }
   ],
   "source": [
    "from sklearn.model_selection import train_test_split\n",
    "from sklearn.metrics import explained_variance_score,max_error,mean_absolute_error,mean_squared_error,median_absolute_error,r2_score,mean_poisson_deviance,mean_gamma_deviance\n",
    "\n",
    "\n",
    "'''\n",
    "X_train,X_test,y_train,y_test = train_test_split(data1_datos,data1_target, test_size = 0.2)\n",
    "for name,model in models.items():\n",
    "    model.fit(X_train,y_train)\n",
    "    y_pred = model.predict(X_test)\n",
    "    print(f\"0 expvariance {name}\", round(explained_variance_score(y_test,y_pred),3))\n",
    "    print(f\"0 maxerr {name}\", round(max_error(y_test,y_pred),3))\n",
    "    print(f\"0 meanabserr {name}\", round(mean_absolute_error(y_test,y_pred),3))\n",
    "    print(f\"0 meansqr {name}\", round(mean_squared_error(y_test,y_pred),3))\n",
    "    print(f\"0 root meansqr {name}\", round(sqrt(mean_squared_error(y_test,y_pred)),3))\n",
    "    print(f\"0 meanabserr {name}\", round(median_absolute_error(y_test,y_pred),3))\n",
    "    print(f\"0 r2-score {name}\", round(r2_score(y_test,y_pred),3))\n",
    "    print(\"-------------------\")\n",
    "    \n",
    "    '''"
   ]
  },
  {
   "cell_type": "code",
   "execution_count": 9,
   "metadata": {},
   "outputs": [],
   "source": [
    "models2 = {\n",
    "\n",
    "    \"regression\": RandomForestRegressor(),\n",
    "    \"regression2\": RandomForestRegressor(criterion=\"mse\",max_features=\"auto\",oob_score=False,n_estimators=600,n_jobs=-1),\n",
    "    \"regression3\": RandomForestRegressor(criterion=\"mae\",max_features=\"auto\",oob_score=False,n_estimators=595,n_jobs=-1),\n",
    "    \"regression4\": RandomForestRegressor(criterion=\"mse\",max_features=\"auto\",oob_score=False,n_estimators=605,n_jobs=-1),\n",
    "    \n",
    "    \n",
    "}"
   ]
  },
  {
   "cell_type": "code",
   "execution_count": 10,
   "metadata": {
    "scrolled": false
   },
   "outputs": [
    {
     "name": "stdout",
     "output_type": "stream",
     "text": [
      "1 expvariance tree 0.966\n",
      "1 maxerr tree 7454.0\n",
      "1 meanabserr tree 363.422\n",
      "1 meansqr tree 538702.881\n",
      "1 root meansqr tree 733.964\n",
      "1 meanabserr tree 130.0\n",
      "1 r2-score tree 0.966\n",
      "-------------------\n"
     ]
    },
    {
     "name": "stderr",
     "output_type": "stream",
     "text": [
      "/home/borja/.local/lib/python3.8/site-packages/sklearn/utils/validation.py:72: DataConversionWarning: A column-vector y was passed when a 1d array was expected. Please change the shape of y to (n_samples, ), for example using ravel().\n",
      "  return f(**kwargs)\n",
      "/home/borja/.local/lib/python3.8/site-packages/sklearn/neural_network/_multilayer_perceptron.py:582: ConvergenceWarning: Stochastic Optimizer: Maximum iterations (200) reached and the optimization hasn't converged yet.\n",
      "  warnings.warn(\n",
      "<ipython-input-10-a5e2287b6ee6>:3: DataConversionWarning: A column-vector y was passed when a 1d array was expected. Please change the shape of y to (n_samples,), for example using ravel().\n",
      "  model.fit(X_train,y_train)\n"
     ]
    },
    {
     "name": "stdout",
     "output_type": "stream",
     "text": [
      "1 expvariance neural_network 0.888\n",
      "1 maxerr neural_network 11187.222\n",
      "1 meanabserr neural_network 931.885\n",
      "1 meansqr neural_network 1799411.221\n",
      "1 root meansqr neural_network 1341.421\n",
      "1 meanabserr neural_network 666.649\n",
      "1 r2-score neural_network 0.888\n",
      "-------------------\n",
      "1 expvariance regression 0.982\n",
      "1 maxerr regression 6714.38\n",
      "1 meanabserr regression 274.829\n",
      "1 meansqr regression 296659.652\n",
      "1 root meansqr regression 544.665\n",
      "1 meanabserr regression 103.76\n",
      "1 r2-score regression 0.982\n",
      "-------------------\n"
     ]
    },
    {
     "name": "stderr",
     "output_type": "stream",
     "text": [
      "/home/borja/.local/lib/python3.8/site-packages/sklearn/utils/validation.py:72: DataConversionWarning: A column-vector y was passed when a 1d array was expected. Please change the shape of y to (n_samples, ), for example using ravel().\n",
      "  return f(**kwargs)\n"
     ]
    },
    {
     "name": "stdout",
     "output_type": "stream",
     "text": [
      "1 expvariance GBR 0.972\n",
      "1 maxerr GBR 7153.642\n",
      "1 meanabserr GBR 368.741\n",
      "1 meansqr GBR 452127.441\n",
      "1 root meansqr GBR 672.404\n",
      "1 meanabserr GBR 167.03\n",
      "1 r2-score GBR 0.972\n",
      "-------------------\n"
     ]
    },
    {
     "name": "stderr",
     "output_type": "stream",
     "text": [
      "<ipython-input-10-a5e2287b6ee6>:3: DataConversionWarning: A column-vector y was passed when a 1d array was expected. Please change the shape of y to (n_samples,), for example using ravel().\n",
      "  model.fit(X_train,y_train)\n"
     ]
    },
    {
     "name": "stdout",
     "output_type": "stream",
     "text": [
      "1 expvariance extra 0.982\n",
      "1 maxerr extra 6722.18\n",
      "1 meanabserr extra 271.701\n",
      "1 meansqr extra 295001.442\n",
      "1 root meansqr extra 543.14\n",
      "1 meanabserr extra 102.4\n",
      "1 r2-score extra 0.982\n",
      "-------------------\n"
     ]
    }
   ],
   "source": [
    "\n",
    "X_train,X_test,y_train,y_test = train_test_split(data2_datos,data2_target, test_size = 0.2)\n",
    "for name,model in models.items():\n",
    "    model.fit(X_train,y_train)\n",
    "    y_pred = model.predict(X_test)\n",
    "    print(f\"1 expvariance {name}\", round(explained_variance_score(y_test,y_pred),3))\n",
    "    print(f\"1 maxerr {name}\", round(max_error(y_test,y_pred),3))\n",
    "    print(f\"1 meanabserr {name}\", round(mean_absolute_error(y_test,y_pred),3))\n",
    "    print(f\"1 meansqr {name}\", round(mean_squared_error(y_test,y_pred),3))\n",
    "    print(f\"1 root meansqr {name}\", round(sqrt(mean_squared_error(y_test,y_pred)),3))\n",
    "    print(f\"1 meanabserr {name}\", round(median_absolute_error(y_test,y_pred),3))\n",
    "    print(f\"1 r2-score {name}\", round(r2_score(y_test,y_pred),3))\n",
    "    print(\"-------------------\")\n",
    "    \n"
   ]
  },
  {
   "cell_type": "code",
   "execution_count": 12,
   "metadata": {},
   "outputs": [
    {
     "data": {
      "text/plain": [
       "(       carat  cut2     x     y     z\n",
       " id                                  \n",
       " 0       1.12     3  6.67  6.63  4.10\n",
       " 1       1.14     4  6.74  6.97  4.11\n",
       " 2       0.90     4  6.12  6.22  3.72\n",
       " 3       0.71     2  5.74  5.76  3.56\n",
       " 4       0.34     4  4.51  4.55  2.72\n",
       " ...      ...   ...   ...   ...   ...\n",
       " 40450   0.90     1  6.13  6.09  3.90\n",
       " 40451   0.35     2  4.56  4.57  2.83\n",
       " 40452   0.90     1  6.34  6.39  3.72\n",
       " 40453   1.21     1  6.63  6.68  4.23\n",
       " 40454   0.41     2  4.80  4.77  2.94\n",
       " \n",
       " [40455 rows x 5 columns],\n",
       "        price\n",
       " id          \n",
       " 0       5363\n",
       " 1       5593\n",
       " 2       3534\n",
       " 3       3212\n",
       " 4        447\n",
       " ...      ...\n",
       " 40450   4120\n",
       " 40451   1266\n",
       " 40452   3269\n",
       " 40453   5893\n",
       " 40454   1115\n",
       " \n",
       " [40455 rows x 1 columns])"
      ]
     },
     "execution_count": 12,
     "metadata": {},
     "output_type": "execute_result"
    }
   ],
   "source": [
    "data3_datos = data2[[\"carat\",\"cut2\",\"x\",\"y\",\"z\"]]\n",
    "data3_target = data2[[\"price\"]]\n",
    "data3_datos,data3_target"
   ]
  },
  {
   "cell_type": "code",
   "execution_count": 13,
   "metadata": {
    "scrolled": false
   },
   "outputs": [
    {
     "data": {
      "text/plain": [
       "'\\nX_train,X_test,y_train,y_test = train_test_split(data3_datos,data3_target, test_size = 0.2)\\nfor name,model in models.items():\\n    model.fit(X_train,y_train)\\n    y_pred = model.predict(X_test)\\n    print(f\"2 expvariance {name}\", round(explained_variance_score(y_test,y_pred),3))\\n    print(f\"2 maxerr {name}\", round(max_error(y_test,y_pred),3))\\n    print(f\"2 meanabserr {name}\", round(mean_absolute_error(y_test,y_pred),3))\\n    print(f\"2 meansqr {name}\", round(mean_squared_error(y_test,y_pred),3))\\n    print(f\"2 root meansqr {name}\", round(sqrt(mean_squared_error(y_test,y_pred)),3))\\n    print(f\"2 meanabserr {name}\", round(median_absolute_error(y_test,y_pred),3))\\n    print(f\"2 r2-score {name}\", round(r2_score(y_test,y_pred),3))\\n    print(\"-------------------\")\\n    '"
      ]
     },
     "execution_count": 13,
     "metadata": {},
     "output_type": "execute_result"
    }
   ],
   "source": [
    "'''\n",
    "X_train,X_test,y_train,y_test = train_test_split(data3_datos,data3_target, test_size = 0.2)\n",
    "for name,model in models.items():\n",
    "    model.fit(X_train,y_train)\n",
    "    y_pred = model.predict(X_test)\n",
    "    print(f\"2 expvariance {name}\", round(explained_variance_score(y_test,y_pred),3))\n",
    "    print(f\"2 maxerr {name}\", round(max_error(y_test,y_pred),3))\n",
    "    print(f\"2 meanabserr {name}\", round(mean_absolute_error(y_test,y_pred),3))\n",
    "    print(f\"2 meansqr {name}\", round(mean_squared_error(y_test,y_pred),3))\n",
    "    print(f\"2 root meansqr {name}\", round(sqrt(mean_squared_error(y_test,y_pred)),3))\n",
    "    print(f\"2 meanabserr {name}\", round(median_absolute_error(y_test,y_pred),3))\n",
    "    print(f\"2 r2-score {name}\", round(r2_score(y_test,y_pred),3))\n",
    "    print(\"-------------------\")\n",
    "    '''"
   ]
  },
  {
   "cell_type": "code",
   "execution_count": 14,
   "metadata": {},
   "outputs": [
    {
     "data": {
      "text/plain": [
       "dict_keys(['tree', 'neural_network', 'regression', 'GBR', 'extra'])"
      ]
     },
     "execution_count": 14,
     "metadata": {},
     "output_type": "execute_result"
    }
   ],
   "source": [
    "models.keys()"
   ]
  },
  {
   "cell_type": "code",
   "execution_count": 15,
   "metadata": {
    "scrolled": false
   },
   "outputs": [
    {
     "data": {
      "text/plain": [
       "'\\nfrom sklearn.model_selection import cross_val_score\\nfor name,model in models.items():\\n    if name in [\\'linear_reg\\', \\'linear_ridge\\', \\'linear_lasso\\', \\'linear_miltitasklasso\\', \\'linear_elastic\\', \\'linear_elasticmulti\\', \\'linear_lassolars\\', \\'linear_orthogonal\\', \\'linear_bayesian\\', \\'linear_stockastic\\', \\'linear_passiveaggresive\\', \\'SVR\\', \\'Linear_SVR\\', \\'tree\\', \\'neural_network\\', \\'regression\\', \\'GBR\\', \\'ADA\\']:\\n        scores = cross_val_score(model,data1_datos,data1_target,cv=10, n_jobs=-1)\\n        print(f\"{name} accuracy = {(np.mean(scores))}\")\\n    else:\\n        pass\\n        '"
      ]
     },
     "execution_count": 15,
     "metadata": {},
     "output_type": "execute_result"
    }
   ],
   "source": [
    "'''\n",
    "from sklearn.model_selection import cross_val_score\n",
    "for name,model in models.items():\n",
    "    if name in ['linear_reg', 'linear_ridge', 'linear_lasso', 'linear_miltitasklasso', 'linear_elastic', 'linear_elasticmulti', 'linear_lassolars', 'linear_orthogonal', 'linear_bayesian', 'linear_stockastic', 'linear_passiveaggresive', 'SVR', 'Linear_SVR', 'tree', 'neural_network', 'regression', 'GBR', 'ADA']:\n",
    "        scores = cross_val_score(model,data1_datos,data1_target,cv=10, n_jobs=-1)\n",
    "        print(f\"{name} accuracy = {(np.mean(scores))}\")\n",
    "    else:\n",
    "        pass\n",
    "        '''"
   ]
  },
  {
   "cell_type": "code",
   "execution_count": 16,
   "metadata": {
    "scrolled": false
   },
   "outputs": [
    {
     "data": {
      "text/plain": [
       "'\\nfrom sklearn.model_selection import cross_val_score\\nfor name,model in models.items():\\n    if name in [\\'linear_reg\\', \\'linear_ridge\\', \\'linear_lasso\\', \\'linear_miltitasklasso\\', \\'linear_elastic\\', \\'linear_elasticmulti\\', \\'linear_lassolars\\', \\'linear_orthogonal\\', \\'linear_bayesian\\', \\'linear_stockastic\\', \\'linear_passiveaggresive\\', \\'SVR\\', \\'Linear_SVR\\', \\'tree\\', \\'neural_network\\', \\'regression\\', \\'GBR\\', \\'ADA\\']:\\n        scores = cross_val_score(model,data2_datos,data2_target,cv=10,n_jobs=-1)\\n        print(f\"{name} accuracy = {(np.mean(scores))}\")\\n    else:\\n        pass\\n        '"
      ]
     },
     "execution_count": 16,
     "metadata": {},
     "output_type": "execute_result"
    }
   ],
   "source": [
    "'''\n",
    "from sklearn.model_selection import cross_val_score\n",
    "for name,model in models.items():\n",
    "    if name in ['linear_reg', 'linear_ridge', 'linear_lasso', 'linear_miltitasklasso', 'linear_elastic', 'linear_elasticmulti', 'linear_lassolars', 'linear_orthogonal', 'linear_bayesian', 'linear_stockastic', 'linear_passiveaggresive', 'SVR', 'Linear_SVR', 'tree', 'neural_network', 'regression', 'GBR', 'ADA']:\n",
    "        scores = cross_val_score(model,data2_datos,data2_target,cv=10,n_jobs=-1)\n",
    "        print(f\"{name} accuracy = {(np.mean(scores))}\")\n",
    "    else:\n",
    "        pass\n",
    "        '''"
   ]
  },
  {
   "cell_type": "code",
   "execution_count": 17,
   "metadata": {
    "scrolled": false
   },
   "outputs": [
    {
     "data": {
      "text/plain": [
       "'\\nfrom sklearn.model_selection import cross_val_score\\nfor name,model in models.items():\\n    if name in [\\'linear_reg\\', \\'linear_ridge\\', \\'linear_lasso\\', \\'linear_miltitasklasso\\', \\'linear_elastic\\', \\'linear_elasticmulti\\', \\'linear_lassolars\\', \\'linear_orthogonal\\', \\'linear_bayesian\\', \\'linear_stockastic\\', \\'linear_passiveaggresive\\', \\'SVR\\', \\'Linear_SVR\\', \\'tree\\', \\'neural_network\\', \\'regression\\', \\'GBR\\', \\'ADA\\']:\\n        scores = cross_val_score(model,data3_datos,data3_target,cv=10, n_jobs=-1)\\n        \\n        print(f\"{name} accuracy = {(np.mean(scores))}\")\\n    else:\\n        pass\\n  '"
      ]
     },
     "execution_count": 17,
     "metadata": {},
     "output_type": "execute_result"
    }
   ],
   "source": [
    "'''\n",
    "from sklearn.model_selection import cross_val_score\n",
    "for name,model in models.items():\n",
    "    if name in ['linear_reg', 'linear_ridge', 'linear_lasso', 'linear_miltitasklasso', 'linear_elastic', 'linear_elasticmulti', 'linear_lassolars', 'linear_orthogonal', 'linear_bayesian', 'linear_stockastic', 'linear_passiveaggresive', 'SVR', 'Linear_SVR', 'tree', 'neural_network', 'regression', 'GBR', 'ADA']:\n",
    "        scores = cross_val_score(model,data3_datos,data3_target,cv=10, n_jobs=-1)\n",
    "        \n",
    "        print(f\"{name} accuracy = {(np.mean(scores))}\")\n",
    "    else:\n",
    "        pass\n",
    "  '''  "
   ]
  },
  {
   "cell_type": "code",
   "execution_count": 18,
   "metadata": {},
   "outputs": [],
   "source": [
    "'''\n",
    "models2 = {\n",
    "    \"tree\":tree.DecisionTreeRegressor(),\n",
    "    \"regression\": RandomForestRegressor(),\n",
    "    \"GBR\":GradientBoostingRegressor(),    \n",
    "}\n",
    "'''\n",
    "parameters = {\n",
    "    \n",
    "    \"criterion\":[\"mse\", \"friedman_mse\", \"mae\"],\n",
    "    \"splitter\":[\"best\", \"random\"],\n",
    "    \"max_features\":[\"auto\", \"sqrt\", \"log2\"],\n",
    "    \"min_samples_split\" : list(range(2,15,4)),\n",
    "    \"min_weight_fraction_leaf\": list(range(0,10,4))\n",
    "    \n",
    "}"
   ]
  },
  {
   "cell_type": "code",
   "execution_count": 19,
   "metadata": {},
   "outputs": [],
   "source": [
    "from sklearn.model_selection import GridSearchCV"
   ]
  },
  {
   "cell_type": "code",
   "execution_count": 20,
   "metadata": {},
   "outputs": [],
   "source": [
    "#grid = GridSearchCV(tree.DecisionTreeRegressor(), parameters,verbose=1,n_jobs=-1)\n",
    "#grid.fit(data2_datos,data2_target)"
   ]
  },
  {
   "cell_type": "code",
   "execution_count": 21,
   "metadata": {},
   "outputs": [],
   "source": [
    "\n",
    "#print(grid.best_params_)"
   ]
  },
  {
   "cell_type": "code",
   "execution_count": 22,
   "metadata": {},
   "outputs": [],
   "source": [
    "parameters2 = {\n",
    "\n",
    "    \"criterion\":[\"mse\", \"mae\"],\n",
    "    #\"splitter\":[\"best\", \"random\"],\n",
    "    \"max_features\":[\"auto\", \"sqrt\", \"log2\"],\n",
    "    \n",
    "}"
   ]
  },
  {
   "cell_type": "code",
   "execution_count": 23,
   "metadata": {},
   "outputs": [],
   "source": [
    "parameters4 = {\n",
    "    \"n_estimators\": list(range(100,1000,250)),\n",
    "    \"criterion\":[\"mse\"],\n",
    "    #\"splitter\":[\"best\", \"random\"],\n",
    "    \"max_features\":[\"auto\"],\n",
    "    \"oob_score\": [False,True],\n",
    "    \n",
    "    \n",
    "}"
   ]
  },
  {
   "cell_type": "code",
   "execution_count": 24,
   "metadata": {},
   "outputs": [],
   "source": [
    "#grid2 = GridSearchCV(RandomForestRegressor(n_jobs=-1), parameters4,verbose=1, n_jobs=-1)\n",
    "#grid2.fit(data2_datos,data2_target)"
   ]
  },
  {
   "cell_type": "code",
   "execution_count": 25,
   "metadata": {},
   "outputs": [],
   "source": [
    "#print(grid2.best_params_)"
   ]
  },
  {
   "cell_type": "code",
   "execution_count": 26,
   "metadata": {},
   "outputs": [],
   "source": [
    "parameters5 = {\n",
    "    \"n_estimators\": list(range(590,610)),\n",
    "    \"criterion\":[\"mse\"],\n",
    "    #\"splitter\":[\"best\", \"random\"],\n",
    "    \"max_features\":[\"auto\"],\n",
    "    \"oob_score\": [False],\n",
    "    \n",
    "    \n",
    "}"
   ]
  },
  {
   "cell_type": "code",
   "execution_count": 27,
   "metadata": {
    "scrolled": false
   },
   "outputs": [],
   "source": [
    "#grid4 = GridSearchCV(RandomForestRegressor(n_jobs=-1), parameters5,verbose=1, n_jobs=-1)\n",
    "#grid4.fit(data2_datos,data2_target)"
   ]
  },
  {
   "cell_type": "code",
   "execution_count": 28,
   "metadata": {},
   "outputs": [],
   "source": [
    "#print(grid4.best_params_)"
   ]
  },
  {
   "cell_type": "code",
   "execution_count": null,
   "metadata": {},
   "outputs": [],
   "source": []
  },
  {
   "cell_type": "code",
   "execution_count": 29,
   "metadata": {},
   "outputs": [],
   "source": [
    "#grid4 = GridSearchCV(RandomForestRegressor(), parameters4,verbose=1,n_jobs=-1)\n",
    "#grid4.fit(data2_datos,data2_target)"
   ]
  },
  {
   "cell_type": "code",
   "execution_count": 30,
   "metadata": {},
   "outputs": [],
   "source": [
    "#print(grid4.best_params_)"
   ]
  },
  {
   "cell_type": "code",
   "execution_count": 31,
   "metadata": {},
   "outputs": [],
   "source": [
    "parameters3 = {\n",
    "    #\"loss\":[\"ls\", \"lad\", \"huber\", \"quantile\"],\n",
    "    \"criterion\":[\"mse\", \"mae\"],\n",
    "    \"max_features\":[\"auto\", \"sqrt\", \"log2\"],\n",
    "    \"n_estimators\": list(range(100, 1000,100))\n",
    "}\n"
   ]
  },
  {
   "cell_type": "code",
   "execution_count": 32,
   "metadata": {},
   "outputs": [],
   "source": [
    "#grid3 = GridSearchCV(ExtraTreesRegressor(n_jobs=-1, verbose=1), parameters3,verbose=1,n_jobs=-1)\n",
    "#grid3.fit(data2_datos,data2_target)"
   ]
  },
  {
   "cell_type": "code",
   "execution_count": 33,
   "metadata": {},
   "outputs": [],
   "source": [
    "#print(grid3.best_params_)"
   ]
  },
  {
   "cell_type": "code",
   "execution_count": null,
   "metadata": {},
   "outputs": [],
   "source": []
  },
  {
   "cell_type": "code",
   "execution_count": null,
   "metadata": {},
   "outputs": [],
   "source": []
  },
  {
   "cell_type": "code",
   "execution_count": null,
   "metadata": {},
   "outputs": [],
   "source": []
  },
  {
   "cell_type": "code",
   "execution_count": null,
   "metadata": {},
   "outputs": [],
   "source": []
  }
 ],
 "metadata": {
  "kernelspec": {
   "display_name": "Python 3",
   "language": "python",
   "name": "python3"
  },
  "language_info": {
   "codemirror_mode": {
    "name": "ipython",
    "version": 3
   },
   "file_extension": ".py",
   "mimetype": "text/x-python",
   "name": "python",
   "nbconvert_exporter": "python",
   "pygments_lexer": "ipython3",
   "version": "3.8.2"
  }
 },
 "nbformat": 4,
 "nbformat_minor": 4
}
