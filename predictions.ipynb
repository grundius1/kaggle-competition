{
 "cells": [
  {
   "cell_type": "code",
   "execution_count": 1,
   "metadata": {},
   "outputs": [],
   "source": [
    "import pandas as pd\n",
    "from sklearn.ensemble import RandomForestRegressor,GradientBoostingRegressor,ExtraTreesRegressor\n",
    "from sklearn import preprocessing\n",
    "from sklearn.model_selection import train_test_split\n",
    "from sklearn.metrics import explained_variance_score,max_error,mean_absolute_error,mean_squared_error,median_absolute_error,r2_score,mean_poisson_deviance,mean_gamma_deviance\n",
    "from math import sqrt"
   ]
  },
  {
   "cell_type": "code",
   "execution_count": 2,
   "metadata": {},
   "outputs": [],
   "source": [
    "data1 = pd.read_csv('output/train_all.csv', index_col=0)\n",
    "data2 = pd.read_csv('inputs/predict.csv', index_col=0)"
   ]
  },
  {
   "cell_type": "code",
   "execution_count": 3,
   "metadata": {},
   "outputs": [
    {
     "data": {
      "text/html": [
       "<div>\n",
       "<style scoped>\n",
       "    .dataframe tbody tr th:only-of-type {\n",
       "        vertical-align: middle;\n",
       "    }\n",
       "\n",
       "    .dataframe tbody tr th {\n",
       "        vertical-align: top;\n",
       "    }\n",
       "\n",
       "    .dataframe thead th {\n",
       "        text-align: right;\n",
       "    }\n",
       "</style>\n",
       "<table border=\"1\" class=\"dataframe\">\n",
       "  <thead>\n",
       "    <tr style=\"text-align: right;\">\n",
       "      <th></th>\n",
       "      <th>carat</th>\n",
       "      <th>cut</th>\n",
       "      <th>color</th>\n",
       "      <th>clarity</th>\n",
       "      <th>depth</th>\n",
       "      <th>table</th>\n",
       "      <th>x</th>\n",
       "      <th>y</th>\n",
       "      <th>z</th>\n",
       "      <th>price</th>\n",
       "      <th>color2</th>\n",
       "      <th>cut2</th>\n",
       "      <th>clarity2</th>\n",
       "    </tr>\n",
       "    <tr>\n",
       "      <th>id</th>\n",
       "      <th></th>\n",
       "      <th></th>\n",
       "      <th></th>\n",
       "      <th></th>\n",
       "      <th></th>\n",
       "      <th></th>\n",
       "      <th></th>\n",
       "      <th></th>\n",
       "      <th></th>\n",
       "      <th></th>\n",
       "      <th></th>\n",
       "      <th></th>\n",
       "      <th></th>\n",
       "    </tr>\n",
       "  </thead>\n",
       "  <tbody>\n",
       "    <tr>\n",
       "      <th>0</th>\n",
       "      <td>1.12</td>\n",
       "      <td>Premium</td>\n",
       "      <td>H</td>\n",
       "      <td>SI1</td>\n",
       "      <td>61.6</td>\n",
       "      <td>59.0</td>\n",
       "      <td>6.67</td>\n",
       "      <td>6.63</td>\n",
       "      <td>4.10</td>\n",
       "      <td>5363</td>\n",
       "      <td>4</td>\n",
       "      <td>3</td>\n",
       "      <td>2</td>\n",
       "    </tr>\n",
       "    <tr>\n",
       "      <th>1</th>\n",
       "      <td>1.14</td>\n",
       "      <td>Very Good</td>\n",
       "      <td>E</td>\n",
       "      <td>SI2</td>\n",
       "      <td>60.0</td>\n",
       "      <td>54.0</td>\n",
       "      <td>6.74</td>\n",
       "      <td>6.97</td>\n",
       "      <td>4.11</td>\n",
       "      <td>5593</td>\n",
       "      <td>1</td>\n",
       "      <td>4</td>\n",
       "      <td>3</td>\n",
       "    </tr>\n",
       "    <tr>\n",
       "      <th>2</th>\n",
       "      <td>0.90</td>\n",
       "      <td>Very Good</td>\n",
       "      <td>D</td>\n",
       "      <td>SI2</td>\n",
       "      <td>60.3</td>\n",
       "      <td>63.0</td>\n",
       "      <td>6.12</td>\n",
       "      <td>6.22</td>\n",
       "      <td>3.72</td>\n",
       "      <td>3534</td>\n",
       "      <td>0</td>\n",
       "      <td>4</td>\n",
       "      <td>3</td>\n",
       "    </tr>\n",
       "    <tr>\n",
       "      <th>3</th>\n",
       "      <td>0.71</td>\n",
       "      <td>Ideal</td>\n",
       "      <td>E</td>\n",
       "      <td>VS1</td>\n",
       "      <td>61.9</td>\n",
       "      <td>54.0</td>\n",
       "      <td>5.74</td>\n",
       "      <td>5.76</td>\n",
       "      <td>3.56</td>\n",
       "      <td>3212</td>\n",
       "      <td>1</td>\n",
       "      <td>2</td>\n",
       "      <td>4</td>\n",
       "    </tr>\n",
       "    <tr>\n",
       "      <th>4</th>\n",
       "      <td>0.34</td>\n",
       "      <td>Very Good</td>\n",
       "      <td>F</td>\n",
       "      <td>SI2</td>\n",
       "      <td>60.0</td>\n",
       "      <td>62.0</td>\n",
       "      <td>4.51</td>\n",
       "      <td>4.55</td>\n",
       "      <td>2.72</td>\n",
       "      <td>447</td>\n",
       "      <td>2</td>\n",
       "      <td>4</td>\n",
       "      <td>3</td>\n",
       "    </tr>\n",
       "    <tr>\n",
       "      <th>...</th>\n",
       "      <td>...</td>\n",
       "      <td>...</td>\n",
       "      <td>...</td>\n",
       "      <td>...</td>\n",
       "      <td>...</td>\n",
       "      <td>...</td>\n",
       "      <td>...</td>\n",
       "      <td>...</td>\n",
       "      <td>...</td>\n",
       "      <td>...</td>\n",
       "      <td>...</td>\n",
       "      <td>...</td>\n",
       "      <td>...</td>\n",
       "    </tr>\n",
       "    <tr>\n",
       "      <th>40450</th>\n",
       "      <td>0.90</td>\n",
       "      <td>Good</td>\n",
       "      <td>D</td>\n",
       "      <td>SI1</td>\n",
       "      <td>63.8</td>\n",
       "      <td>58.0</td>\n",
       "      <td>6.13</td>\n",
       "      <td>6.09</td>\n",
       "      <td>3.90</td>\n",
       "      <td>4120</td>\n",
       "      <td>0</td>\n",
       "      <td>1</td>\n",
       "      <td>2</td>\n",
       "    </tr>\n",
       "    <tr>\n",
       "      <th>40451</th>\n",
       "      <td>0.35</td>\n",
       "      <td>Ideal</td>\n",
       "      <td>D</td>\n",
       "      <td>VVS1</td>\n",
       "      <td>62.0</td>\n",
       "      <td>54.0</td>\n",
       "      <td>4.56</td>\n",
       "      <td>4.57</td>\n",
       "      <td>2.83</td>\n",
       "      <td>1266</td>\n",
       "      <td>0</td>\n",
       "      <td>2</td>\n",
       "      <td>6</td>\n",
       "    </tr>\n",
       "    <tr>\n",
       "      <th>40452</th>\n",
       "      <td>0.90</td>\n",
       "      <td>Good</td>\n",
       "      <td>G</td>\n",
       "      <td>SI2</td>\n",
       "      <td>58.4</td>\n",
       "      <td>55.0</td>\n",
       "      <td>6.34</td>\n",
       "      <td>6.39</td>\n",
       "      <td>3.72</td>\n",
       "      <td>3269</td>\n",
       "      <td>3</td>\n",
       "      <td>1</td>\n",
       "      <td>3</td>\n",
       "    </tr>\n",
       "    <tr>\n",
       "      <th>40453</th>\n",
       "      <td>1.21</td>\n",
       "      <td>Good</td>\n",
       "      <td>H</td>\n",
       "      <td>SI1</td>\n",
       "      <td>63.6</td>\n",
       "      <td>56.0</td>\n",
       "      <td>6.63</td>\n",
       "      <td>6.68</td>\n",
       "      <td>4.23</td>\n",
       "      <td>5893</td>\n",
       "      <td>4</td>\n",
       "      <td>1</td>\n",
       "      <td>2</td>\n",
       "    </tr>\n",
       "    <tr>\n",
       "      <th>40454</th>\n",
       "      <td>0.41</td>\n",
       "      <td>Ideal</td>\n",
       "      <td>H</td>\n",
       "      <td>VVS1</td>\n",
       "      <td>61.4</td>\n",
       "      <td>56.0</td>\n",
       "      <td>4.80</td>\n",
       "      <td>4.77</td>\n",
       "      <td>2.94</td>\n",
       "      <td>1115</td>\n",
       "      <td>4</td>\n",
       "      <td>2</td>\n",
       "      <td>6</td>\n",
       "    </tr>\n",
       "  </tbody>\n",
       "</table>\n",
       "<p>40455 rows × 13 columns</p>\n",
       "</div>"
      ],
      "text/plain": [
       "       carat        cut color clarity  depth  table     x     y     z  price  \\\n",
       "id                                                                             \n",
       "0       1.12    Premium     H     SI1   61.6   59.0  6.67  6.63  4.10   5363   \n",
       "1       1.14  Very Good     E     SI2   60.0   54.0  6.74  6.97  4.11   5593   \n",
       "2       0.90  Very Good     D     SI2   60.3   63.0  6.12  6.22  3.72   3534   \n",
       "3       0.71      Ideal     E     VS1   61.9   54.0  5.74  5.76  3.56   3212   \n",
       "4       0.34  Very Good     F     SI2   60.0   62.0  4.51  4.55  2.72    447   \n",
       "...      ...        ...   ...     ...    ...    ...   ...   ...   ...    ...   \n",
       "40450   0.90       Good     D     SI1   63.8   58.0  6.13  6.09  3.90   4120   \n",
       "40451   0.35      Ideal     D    VVS1   62.0   54.0  4.56  4.57  2.83   1266   \n",
       "40452   0.90       Good     G     SI2   58.4   55.0  6.34  6.39  3.72   3269   \n",
       "40453   1.21       Good     H     SI1   63.6   56.0  6.63  6.68  4.23   5893   \n",
       "40454   0.41      Ideal     H    VVS1   61.4   56.0  4.80  4.77  2.94   1115   \n",
       "\n",
       "       color2  cut2  clarity2  \n",
       "id                             \n",
       "0           4     3         2  \n",
       "1           1     4         3  \n",
       "2           0     4         3  \n",
       "3           1     2         4  \n",
       "4           2     4         3  \n",
       "...       ...   ...       ...  \n",
       "40450       0     1         2  \n",
       "40451       0     2         6  \n",
       "40452       3     1         3  \n",
       "40453       4     1         2  \n",
       "40454       4     2         6  \n",
       "\n",
       "[40455 rows x 13 columns]"
      ]
     },
     "execution_count": 3,
     "metadata": {},
     "output_type": "execute_result"
    }
   ],
   "source": [
    "data1"
   ]
  },
  {
   "cell_type": "code",
   "execution_count": 4,
   "metadata": {},
   "outputs": [],
   "source": [
    "#data1.cut.value_counts(),data1.cut2.value_counts()"
   ]
  },
  {
   "cell_type": "code",
   "execution_count": 5,
   "metadata": {},
   "outputs": [],
   "source": [
    "def cutchanger(x):\n",
    "    if x== \"Ideal\":\n",
    "        return 2\n",
    "    elif x== \"Premium\":\n",
    "        return 3\n",
    "    elif x == \"Very Good\":\n",
    "        return 4\n",
    "    elif x== \"Good\":\n",
    "        return 1\n",
    "    else:\n",
    "        return 0"
   ]
  },
  {
   "cell_type": "code",
   "execution_count": 6,
   "metadata": {},
   "outputs": [],
   "source": [
    "#data1.color.value_counts(),data1.color2.value_counts()"
   ]
  },
  {
   "cell_type": "code",
   "execution_count": 7,
   "metadata": {},
   "outputs": [],
   "source": [
    "def colorchanger(x):\n",
    "    if x== \"G\":\n",
    "        return 3\n",
    "    elif x== \"E\":\n",
    "        return 1\n",
    "    elif x == \"F\":\n",
    "        return 2\n",
    "    elif x== \"H\":\n",
    "        return 4\n",
    "    elif x== \"D\":\n",
    "        return 0\n",
    "    elif x== \"I\":\n",
    "        return 5\n",
    "    else:\n",
    "        return 6"
   ]
  },
  {
   "cell_type": "code",
   "execution_count": 8,
   "metadata": {},
   "outputs": [],
   "source": [
    "#data1.clarity.value_counts(),data1.clarity2.value_counts()"
   ]
  },
  {
   "cell_type": "code",
   "execution_count": 9,
   "metadata": {},
   "outputs": [],
   "source": [
    "def clarytychanger(x):\n",
    "    if x== \"SI1\":\n",
    "        return 2\n",
    "    elif x== \"VS2\":\n",
    "        return 5\n",
    "    elif x == \"SI2\":\n",
    "        return 3\n",
    "    elif x== \"VS1\":\n",
    "        return 4\n",
    "    elif x== \"VVS2\":\n",
    "        return 7\n",
    "    elif x== \"VVS1\":\n",
    "        return 6\n",
    "    elif x== \"IF\":\n",
    "        return 1\n",
    "    else:\n",
    "        return 0"
   ]
  },
  {
   "cell_type": "code",
   "execution_count": 10,
   "metadata": {},
   "outputs": [],
   "source": [
    "#data2.cut.value_counts(),data2.color.value_counts(),data2.clarity.value_counts()"
   ]
  },
  {
   "cell_type": "code",
   "execution_count": 11,
   "metadata": {},
   "outputs": [],
   "source": [
    "data2.cut = data2.cut.apply(cutchanger)\n",
    "data2.color = data2.color.apply(colorchanger)\n",
    "data2.clarity = data2.clarity.apply(clarytychanger)"
   ]
  },
  {
   "cell_type": "code",
   "execution_count": 12,
   "metadata": {},
   "outputs": [],
   "source": [
    "#data2.cut.value_counts(),data2.color.value_counts(),data2.clarity.value_counts()"
   ]
  },
  {
   "cell_type": "code",
   "execution_count": 13,
   "metadata": {},
   "outputs": [
    {
     "data": {
      "text/plain": [
       "(       carat  cut2  color2  clarity2     x     y     z\n",
       " id                                                    \n",
       " 0       1.12     3       4         2  6.67  6.63  4.10\n",
       " 1       1.14     4       1         3  6.74  6.97  4.11\n",
       " 2       0.90     4       0         3  6.12  6.22  3.72\n",
       " 3       0.71     2       1         4  5.74  5.76  3.56\n",
       " 4       0.34     4       2         3  4.51  4.55  2.72\n",
       " ...      ...   ...     ...       ...   ...   ...   ...\n",
       " 40450   0.90     1       0         2  6.13  6.09  3.90\n",
       " 40451   0.35     2       0         6  4.56  4.57  2.83\n",
       " 40452   0.90     1       3         3  6.34  6.39  3.72\n",
       " 40453   1.21     1       4         2  6.63  6.68  4.23\n",
       " 40454   0.41     2       4         6  4.80  4.77  2.94\n",
       " \n",
       " [40455 rows x 7 columns],\n",
       "        price\n",
       " id          \n",
       " 0       5363\n",
       " 1       5593\n",
       " 2       3534\n",
       " 3       3212\n",
       " 4        447\n",
       " ...      ...\n",
       " 40450   4120\n",
       " 40451   1266\n",
       " 40452   3269\n",
       " 40453   5893\n",
       " 40454   1115\n",
       " \n",
       " [40455 rows x 1 columns])"
      ]
     },
     "execution_count": 13,
     "metadata": {},
     "output_type": "execute_result"
    }
   ],
   "source": [
    "data_datos = data1[[\"carat\",\"cut2\",\"color2\",\"clarity2\",\"x\",\"y\",\"z\"]]\n",
    "data_target = data1[[\"price\"]]\n",
    "data_datos,data_target"
   ]
  },
  {
   "cell_type": "code",
   "execution_count": 14,
   "metadata": {
    "scrolled": false
   },
   "outputs": [
    {
     "name": "stderr",
     "output_type": "stream",
     "text": [
      "<ipython-input-14-e6b39d69424d>:4: DataConversionWarning: A column-vector y was passed when a 1d array was expected. Please change the shape of y to (n_samples,), for example using ravel().\n",
      "  model.fit(X_train,y_train)\n"
     ]
    },
    {
     "name": "stdout",
     "output_type": "stream",
     "text": [
      "1 expvariance  0.981\n",
      "1 maxerr  7257.942\n",
      "1 meanabserr  277.754\n",
      "1 meansqr  318653.333\n",
      "1 root meansqr  564.494\n",
      "1 meanabserr  98.202\n",
      "1 r2-score  0.981\n",
      "-------------------\n"
     ]
    },
    {
     "name": "stderr",
     "output_type": "stream",
     "text": [
      "<ipython-input-14-e6b39d69424d>:4: DataConversionWarning: A column-vector y was passed when a 1d array was expected. Please change the shape of y to (n_samples,), for example using ravel().\n",
      "  model.fit(X_train,y_train)\n"
     ]
    },
    {
     "name": "stdout",
     "output_type": "stream",
     "text": [
      "1 expvariance  0.979\n",
      "1 maxerr  10104.612\n",
      "1 meanabserr  283.878\n",
      "1 meansqr  335884.816\n",
      "1 root meansqr  579.556\n",
      "1 meanabserr  103.087\n",
      "1 r2-score  0.979\n",
      "-------------------\n"
     ]
    },
    {
     "name": "stderr",
     "output_type": "stream",
     "text": [
      "<ipython-input-14-e6b39d69424d>:4: DataConversionWarning: A column-vector y was passed when a 1d array was expected. Please change the shape of y to (n_samples,), for example using ravel().\n",
      "  model.fit(X_train,y_train)\n"
     ]
    },
    {
     "name": "stdout",
     "output_type": "stream",
     "text": [
      "1 expvariance  0.98\n",
      "1 maxerr  6581.595\n",
      "1 meanabserr  277.178\n",
      "1 meansqr  307819.885\n",
      "1 root meansqr  554.815\n",
      "1 meanabserr  100.748\n",
      "1 r2-score  0.98\n",
      "-------------------\n"
     ]
    },
    {
     "name": "stderr",
     "output_type": "stream",
     "text": [
      "<ipython-input-14-e6b39d69424d>:4: DataConversionWarning: A column-vector y was passed when a 1d array was expected. Please change the shape of y to (n_samples,), for example using ravel().\n",
      "  model.fit(X_train,y_train)\n"
     ]
    },
    {
     "name": "stdout",
     "output_type": "stream",
     "text": [
      "1 expvariance  0.979\n",
      "1 maxerr  6966.068\n",
      "1 meanabserr  289.728\n",
      "1 meansqr  342470.33\n",
      "1 root meansqr  585.21\n",
      "1 meanabserr  103.693\n",
      "1 r2-score  0.979\n",
      "-------------------\n"
     ]
    },
    {
     "name": "stderr",
     "output_type": "stream",
     "text": [
      "<ipython-input-14-e6b39d69424d>:4: DataConversionWarning: A column-vector y was passed when a 1d array was expected. Please change the shape of y to (n_samples,), for example using ravel().\n",
      "  model.fit(X_train,y_train)\n"
     ]
    },
    {
     "name": "stdout",
     "output_type": "stream",
     "text": [
      "1 expvariance  0.98\n",
      "1 maxerr  6211.68\n",
      "1 meanabserr  279.447\n",
      "1 meansqr  315415.77\n",
      "1 root meansqr  561.619\n",
      "1 meanabserr  100.417\n",
      "1 r2-score  0.98\n",
      "-------------------\n"
     ]
    },
    {
     "name": "stderr",
     "output_type": "stream",
     "text": [
      "<ipython-input-14-e6b39d69424d>:14: DataConversionWarning: A column-vector y was passed when a 1d array was expected. Please change the shape of y to (n_samples,), for example using ravel().\n",
      "  model.fit(data_datos,data_target)\n"
     ]
    },
    {
     "name": "stdout",
     "output_type": "stream",
     "text": [
      "1 expvariance  0.997\n",
      "1 maxerr  3430.862\n",
      "1 meanabserr  102.497\n",
      "1 meansqr  43288.88\n",
      "1 root meansqr  208.06\n",
      "1 meanabserr  36.805\n",
      "1 r2-score  0.997\n",
      "-------------------\n"
     ]
    }
   ],
   "source": [
    "model = RandomForestRegressor(criterion=\"mse\",max_features=\"auto\",oob_score=False,n_estimators=600,n_jobs=-1)\n",
    "for i in list(range(0,5)):\n",
    "    X_train,X_test,y_train,y_test = train_test_split(data_datos,data_target, test_size = 0.2)\n",
    "    model.fit(X_train,y_train)\n",
    "    y_pred= model.predict(X_test)\n",
    "    print(f\"1 expvariance \", round(explained_variance_score(y_test,y_pred),3))\n",
    "    print(f\"1 maxerr \", round(max_error(y_test,y_pred),3))\n",
    "    print(f\"1 meanabserr \", round(mean_absolute_error(y_test,y_pred),3))\n",
    "    print(f\"1 meansqr \", round(mean_squared_error(y_test,y_pred),3))\n",
    "    print(f\"1 root meansqr \", round(sqrt(mean_squared_error(y_test,y_pred)),3))\n",
    "    print(f\"1 meanabserr \", round(median_absolute_error(y_test,y_pred),3))\n",
    "    print(f\"1 r2-score \", round(r2_score(y_test,y_pred),3))\n",
    "    print(\"-------------------\")\n",
    "model.fit(data_datos,data_target)\n",
    "y_pred= model.predict(data_datos)\n",
    "print(f\"1 expvariance \", round(explained_variance_score(data_target,y_pred),3))\n",
    "print(f\"1 maxerr \", round(max_error(data_target,y_pred),3))\n",
    "print(f\"1 meanabserr \", round(mean_absolute_error(data_target,y_pred),3))\n",
    "print(f\"1 meansqr \", round(mean_squared_error(data_target,y_pred),3))\n",
    "print(f\"1 root meansqr \", round(sqrt(mean_squared_error(data_target,y_pred)),3))\n",
    "print(f\"1 meanabserr \", round(median_absolute_error(data_target,y_pred),3))\n",
    "print(f\"1 r2-score \", round(r2_score(data_target,y_pred),3))\n",
    "print(\"-------------------\")"
   ]
  },
  {
   "cell_type": "code",
   "execution_count": 15,
   "metadata": {},
   "outputs": [],
   "source": [
    "data2.head()\n",
    "data2 = data2[[\"carat\",\"cut\",\"color\",\"clarity\",\"x\",\"y\",\"z\"]]"
   ]
  },
  {
   "cell_type": "code",
   "execution_count": 16,
   "metadata": {},
   "outputs": [
    {
     "data": {
      "text/plain": [
       "(array([ 791.10833333, 5918.715     , 5826.40666667, ..., 2604.17166667,\n",
       "        1249.65944444, 1064.68333333]),\n",
       " 13485)"
      ]
     },
     "execution_count": 16,
     "metadata": {},
     "output_type": "execute_result"
    }
   ],
   "source": [
    "y_pred = model.predict(data2)\n",
    "y_pred, len(y_pred)"
   ]
  },
  {
   "cell_type": "code",
   "execution_count": 17,
   "metadata": {},
   "outputs": [],
   "source": [
    "data2[\"price\"] = y_pred\n",
    "data2=data2.reset_index()\n"
   ]
  },
  {
   "cell_type": "code",
   "execution_count": 18,
   "metadata": {},
   "outputs": [
    {
     "data": {
      "text/plain": [
       "Index(['id', 'carat', 'cut', 'color', 'clarity', 'x', 'y', 'z', 'price'], dtype='object')"
      ]
     },
     "execution_count": 18,
     "metadata": {},
     "output_type": "execute_result"
    }
   ],
   "source": [
    "data2.columns"
   ]
  },
  {
   "cell_type": "code",
   "execution_count": 19,
   "metadata": {},
   "outputs": [
    {
     "data": {
      "text/html": [
       "<div>\n",
       "<style scoped>\n",
       "    .dataframe tbody tr th:only-of-type {\n",
       "        vertical-align: middle;\n",
       "    }\n",
       "\n",
       "    .dataframe tbody tr th {\n",
       "        vertical-align: top;\n",
       "    }\n",
       "\n",
       "    .dataframe thead th {\n",
       "        text-align: right;\n",
       "    }\n",
       "</style>\n",
       "<table border=\"1\" class=\"dataframe\">\n",
       "  <thead>\n",
       "    <tr style=\"text-align: right;\">\n",
       "      <th></th>\n",
       "      <th>id</th>\n",
       "      <th>price</th>\n",
       "    </tr>\n",
       "  </thead>\n",
       "  <tbody>\n",
       "    <tr>\n",
       "      <th>0</th>\n",
       "      <td>0</td>\n",
       "      <td>791.108333</td>\n",
       "    </tr>\n",
       "    <tr>\n",
       "      <th>1</th>\n",
       "      <td>1</td>\n",
       "      <td>5918.715000</td>\n",
       "    </tr>\n",
       "    <tr>\n",
       "      <th>2</th>\n",
       "      <td>2</td>\n",
       "      <td>5826.406667</td>\n",
       "    </tr>\n",
       "    <tr>\n",
       "      <th>3</th>\n",
       "      <td>3</td>\n",
       "      <td>1113.263333</td>\n",
       "    </tr>\n",
       "    <tr>\n",
       "      <th>4</th>\n",
       "      <td>4</td>\n",
       "      <td>3239.244889</td>\n",
       "    </tr>\n",
       "    <tr>\n",
       "      <th>...</th>\n",
       "      <td>...</td>\n",
       "      <td>...</td>\n",
       "    </tr>\n",
       "    <tr>\n",
       "      <th>13480</th>\n",
       "      <td>13480</td>\n",
       "      <td>16527.558333</td>\n",
       "    </tr>\n",
       "    <tr>\n",
       "      <th>13481</th>\n",
       "      <td>13481</td>\n",
       "      <td>884.801667</td>\n",
       "    </tr>\n",
       "    <tr>\n",
       "      <th>13482</th>\n",
       "      <td>13482</td>\n",
       "      <td>2604.171667</td>\n",
       "    </tr>\n",
       "    <tr>\n",
       "      <th>13483</th>\n",
       "      <td>13483</td>\n",
       "      <td>1249.659444</td>\n",
       "    </tr>\n",
       "    <tr>\n",
       "      <th>13484</th>\n",
       "      <td>13484</td>\n",
       "      <td>1064.683333</td>\n",
       "    </tr>\n",
       "  </tbody>\n",
       "</table>\n",
       "<p>13485 rows × 2 columns</p>\n",
       "</div>"
      ],
      "text/plain": [
       "          id         price\n",
       "0          0    791.108333\n",
       "1          1   5918.715000\n",
       "2          2   5826.406667\n",
       "3          3   1113.263333\n",
       "4          4   3239.244889\n",
       "...      ...           ...\n",
       "13480  13480  16527.558333\n",
       "13481  13481    884.801667\n",
       "13482  13482   2604.171667\n",
       "13483  13483   1249.659444\n",
       "13484  13484   1064.683333\n",
       "\n",
       "[13485 rows x 2 columns]"
      ]
     },
     "execution_count": 19,
     "metadata": {},
     "output_type": "execute_result"
    }
   ],
   "source": [
    "diamonds = data2[[\"id\",\"price\"]]\n",
    "diamonds"
   ]
  },
  {
   "cell_type": "code",
   "execution_count": 20,
   "metadata": {},
   "outputs": [],
   "source": [
    "diamonds.to_csv(r'output/pred2.csv',index=False,header=True)"
   ]
  },
  {
   "cell_type": "code",
   "execution_count": 21,
   "metadata": {},
   "outputs": [
    {
     "name": "stderr",
     "output_type": "stream",
     "text": [
      "<ipython-input-21-d6431ce08008>:4: DataConversionWarning: A column-vector y was passed when a 1d array was expected. Please change the shape of y to (n_samples,), for example using ravel().\n",
      "  model2.fit(X_train,y_train)\n"
     ]
    },
    {
     "name": "stdout",
     "output_type": "stream",
     "text": [
      "1 expvariance  0.977\n",
      "1 maxerr  7143.102\n",
      "1 meanabserr  283.743\n",
      "1 meansqr  354956.239\n",
      "1 root meansqr  595.782\n",
      "1 meanabserr  99.693\n",
      "1 r2-score  0.977\n",
      "-------------------\n"
     ]
    },
    {
     "name": "stderr",
     "output_type": "stream",
     "text": [
      "<ipython-input-21-d6431ce08008>:4: DataConversionWarning: A column-vector y was passed when a 1d array was expected. Please change the shape of y to (n_samples,), for example using ravel().\n",
      "  model2.fit(X_train,y_train)\n"
     ]
    },
    {
     "name": "stdout",
     "output_type": "stream",
     "text": [
      "1 expvariance  0.981\n",
      "1 maxerr  5625.572\n",
      "1 meanabserr  283.574\n",
      "1 meansqr  312100.708\n",
      "1 root meansqr  558.66\n",
      "1 meanabserr  102.625\n",
      "1 r2-score  0.981\n",
      "-------------------\n"
     ]
    },
    {
     "name": "stderr",
     "output_type": "stream",
     "text": [
      "<ipython-input-21-d6431ce08008>:4: DataConversionWarning: A column-vector y was passed when a 1d array was expected. Please change the shape of y to (n_samples,), for example using ravel().\n",
      "  model2.fit(X_train,y_train)\n"
     ]
    },
    {
     "name": "stdout",
     "output_type": "stream",
     "text": [
      "1 expvariance  0.98\n",
      "1 maxerr  6832.0\n",
      "1 meanabserr  279.686\n",
      "1 meansqr  328076.307\n",
      "1 root meansqr  572.779\n",
      "1 meanabserr  100.61\n",
      "1 r2-score  0.98\n",
      "-------------------\n"
     ]
    },
    {
     "name": "stderr",
     "output_type": "stream",
     "text": [
      "<ipython-input-21-d6431ce08008>:4: DataConversionWarning: A column-vector y was passed when a 1d array was expected. Please change the shape of y to (n_samples,), for example using ravel().\n",
      "  model2.fit(X_train,y_train)\n"
     ]
    },
    {
     "name": "stdout",
     "output_type": "stream",
     "text": [
      "1 expvariance  0.981\n",
      "1 maxerr  6545.868\n",
      "1 meanabserr  279.008\n",
      "1 meansqr  317053.909\n",
      "1 root meansqr  563.075\n",
      "1 meanabserr  102.374\n",
      "1 r2-score  0.981\n",
      "-------------------\n"
     ]
    },
    {
     "name": "stderr",
     "output_type": "stream",
     "text": [
      "<ipython-input-21-d6431ce08008>:4: DataConversionWarning: A column-vector y was passed when a 1d array was expected. Please change the shape of y to (n_samples,), for example using ravel().\n",
      "  model2.fit(X_train,y_train)\n"
     ]
    },
    {
     "name": "stdout",
     "output_type": "stream",
     "text": [
      "1 expvariance  0.98\n",
      "1 maxerr  6686.835\n",
      "1 meanabserr  279.755\n",
      "1 meansqr  322314.093\n",
      "1 root meansqr  567.727\n",
      "1 meanabserr  101.213\n",
      "1 r2-score  0.98\n",
      "-------------------\n"
     ]
    },
    {
     "name": "stderr",
     "output_type": "stream",
     "text": [
      "<ipython-input-21-d6431ce08008>:14: DataConversionWarning: A column-vector y was passed when a 1d array was expected. Please change the shape of y to (n_samples,), for example using ravel().\n",
      "  model2.fit(data_datos,data_target)\n"
     ]
    },
    {
     "name": "stdout",
     "output_type": "stream",
     "text": [
      "1 expvariance  1.0\n",
      "1 maxerr  829.5\n",
      "1 meanabserr  1.084\n",
      "1 meansqr  285.638\n",
      "1 root meansqr  16.901\n",
      "1 meanabserr  0.0\n",
      "1 r2-score  1.0\n",
      "-------------------\n"
     ]
    }
   ],
   "source": [
    "model2 = ExtraTreesRegressor(n_jobs=-1,n_estimators=600)\n",
    "for i in list(range(0,5)):\n",
    "    X_train,X_test,y_train,y_test = train_test_split(data_datos,data_target, test_size = 0.2)\n",
    "    model2.fit(X_train,y_train)\n",
    "    y_pred= model2.predict(X_test)\n",
    "    print(f\"1 expvariance \", round(explained_variance_score(y_test,y_pred),3))\n",
    "    print(f\"1 maxerr \", round(max_error(y_test,y_pred),3))\n",
    "    print(f\"1 meanabserr \", round(mean_absolute_error(y_test,y_pred),3))\n",
    "    print(f\"1 meansqr \", round(mean_squared_error(y_test,y_pred),3))\n",
    "    print(f\"1 root meansqr \", round(sqrt(mean_squared_error(y_test,y_pred)),3))\n",
    "    print(f\"1 meanabserr \", round(median_absolute_error(y_test,y_pred),3))\n",
    "    print(f\"1 r2-score \", round(r2_score(y_test,y_pred),3))\n",
    "    print(\"-------------------\")\n",
    "model2.fit(data_datos,data_target)\n",
    "y_pred= model2.predict(data_datos)\n",
    "print(f\"1 expvariance \", round(explained_variance_score(data_target,y_pred),3))\n",
    "print(f\"1 maxerr \", round(max_error(data_target,y_pred),3))\n",
    "print(f\"1 meanabserr \", round(mean_absolute_error(data_target,y_pred),3))\n",
    "print(f\"1 meansqr \", round(mean_squared_error(data_target,y_pred),3))\n",
    "print(f\"1 root meansqr \", round(sqrt(mean_squared_error(data_target,y_pred)),3))\n",
    "print(f\"1 meanabserr \", round(median_absolute_error(data_target,y_pred),3))\n",
    "print(f\"1 r2-score \", round(r2_score(data_target,y_pred),3))\n",
    "print(\"-------------------\")"
   ]
  },
  {
   "cell_type": "code",
   "execution_count": 22,
   "metadata": {},
   "outputs": [
    {
     "data": {
      "text/plain": [
       "(array([ 748.98      , 5899.45166667, 5793.89333333, ..., 2473.60833333,\n",
       "        1291.65666667, 1036.55166667]),\n",
       " 13485)"
      ]
     },
     "execution_count": 22,
     "metadata": {},
     "output_type": "execute_result"
    }
   ],
   "source": [
    "y_pred = model2.predict(data2[[\"carat\",\"cut\",\"color\",\"clarity\",\"x\",\"y\",\"z\"]])\n",
    "y_pred, len(y_pred)"
   ]
  },
  {
   "cell_type": "code",
   "execution_count": 29,
   "metadata": {},
   "outputs": [],
   "source": [
    "data3 = data2.copy()"
   ]
  },
  {
   "cell_type": "code",
   "execution_count": 30,
   "metadata": {},
   "outputs": [],
   "source": [
    "data3[\"price\"] = y_pred\n",
    "data3 = data3.reset_index()"
   ]
  },
  {
   "cell_type": "code",
   "execution_count": 31,
   "metadata": {},
   "outputs": [
    {
     "data": {
      "text/plain": [
       "Index(['index', 'id', 'carat', 'cut', 'color', 'clarity', 'x', 'y', 'z',\n",
       "       'price'],\n",
       "      dtype='object')"
      ]
     },
     "execution_count": 31,
     "metadata": {},
     "output_type": "execute_result"
    }
   ],
   "source": [
    "data3.columns"
   ]
  },
  {
   "cell_type": "code",
   "execution_count": 32,
   "metadata": {},
   "outputs": [
    {
     "data": {
      "text/html": [
       "<div>\n",
       "<style scoped>\n",
       "    .dataframe tbody tr th:only-of-type {\n",
       "        vertical-align: middle;\n",
       "    }\n",
       "\n",
       "    .dataframe tbody tr th {\n",
       "        vertical-align: top;\n",
       "    }\n",
       "\n",
       "    .dataframe thead th {\n",
       "        text-align: right;\n",
       "    }\n",
       "</style>\n",
       "<table border=\"1\" class=\"dataframe\">\n",
       "  <thead>\n",
       "    <tr style=\"text-align: right;\">\n",
       "      <th></th>\n",
       "      <th>id</th>\n",
       "      <th>price</th>\n",
       "    </tr>\n",
       "  </thead>\n",
       "  <tbody>\n",
       "    <tr>\n",
       "      <th>0</th>\n",
       "      <td>0</td>\n",
       "      <td>748.980000</td>\n",
       "    </tr>\n",
       "    <tr>\n",
       "      <th>1</th>\n",
       "      <td>1</td>\n",
       "      <td>5899.451667</td>\n",
       "    </tr>\n",
       "    <tr>\n",
       "      <th>2</th>\n",
       "      <td>2</td>\n",
       "      <td>5793.893333</td>\n",
       "    </tr>\n",
       "    <tr>\n",
       "      <th>3</th>\n",
       "      <td>3</td>\n",
       "      <td>1066.315000</td>\n",
       "    </tr>\n",
       "    <tr>\n",
       "      <th>4</th>\n",
       "      <td>4</td>\n",
       "      <td>3299.123333</td>\n",
       "    </tr>\n",
       "    <tr>\n",
       "      <th>...</th>\n",
       "      <td>...</td>\n",
       "      <td>...</td>\n",
       "    </tr>\n",
       "    <tr>\n",
       "      <th>13480</th>\n",
       "      <td>13480</td>\n",
       "      <td>16314.110000</td>\n",
       "    </tr>\n",
       "    <tr>\n",
       "      <th>13481</th>\n",
       "      <td>13481</td>\n",
       "      <td>890.513333</td>\n",
       "    </tr>\n",
       "    <tr>\n",
       "      <th>13482</th>\n",
       "      <td>13482</td>\n",
       "      <td>2473.608333</td>\n",
       "    </tr>\n",
       "    <tr>\n",
       "      <th>13483</th>\n",
       "      <td>13483</td>\n",
       "      <td>1291.656667</td>\n",
       "    </tr>\n",
       "    <tr>\n",
       "      <th>13484</th>\n",
       "      <td>13484</td>\n",
       "      <td>1036.551667</td>\n",
       "    </tr>\n",
       "  </tbody>\n",
       "</table>\n",
       "<p>13485 rows × 2 columns</p>\n",
       "</div>"
      ],
      "text/plain": [
       "          id         price\n",
       "0          0    748.980000\n",
       "1          1   5899.451667\n",
       "2          2   5793.893333\n",
       "3          3   1066.315000\n",
       "4          4   3299.123333\n",
       "...      ...           ...\n",
       "13480  13480  16314.110000\n",
       "13481  13481    890.513333\n",
       "13482  13482   2473.608333\n",
       "13483  13483   1291.656667\n",
       "13484  13484   1036.551667\n",
       "\n",
       "[13485 rows x 2 columns]"
      ]
     },
     "execution_count": 32,
     "metadata": {},
     "output_type": "execute_result"
    }
   ],
   "source": [
    "diamonds2 = data3[[\"id\",\"price\"]]\n",
    "diamonds2"
   ]
  },
  {
   "cell_type": "code",
   "execution_count": 33,
   "metadata": {},
   "outputs": [],
   "source": [
    "diamonds2.to_csv(r'output/pred3.csv',index=False,header=True)"
   ]
  },
  {
   "cell_type": "code",
   "execution_count": null,
   "metadata": {},
   "outputs": [],
   "source": []
  }
 ],
 "metadata": {
  "kernelspec": {
   "display_name": "Python 3",
   "language": "python",
   "name": "python3"
  },
  "language_info": {
   "codemirror_mode": {
    "name": "ipython",
    "version": 3
   },
   "file_extension": ".py",
   "mimetype": "text/x-python",
   "name": "python",
   "nbconvert_exporter": "python",
   "pygments_lexer": "ipython3",
   "version": "3.8.2"
  }
 },
 "nbformat": 4,
 "nbformat_minor": 4
}
