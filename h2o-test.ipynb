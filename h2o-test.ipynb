{
 "cells": [
  {
   "cell_type": "code",
   "execution_count": 1,
   "metadata": {},
   "outputs": [],
   "source": [
    "import sys\n",
    "import h2o\n",
    "import pandas as pd\n",
    "from h2o.estimators import H2ORandomForestEstimator\n",
    "from h2o.estimators.gbm import H2OGradientBoostingEstimator\n",
    "from h2o.estimators.stackedensemble import H2OStackedEnsembleEstimator"
   ]
  },
  {
   "cell_type": "code",
   "execution_count": 2,
   "metadata": {},
   "outputs": [
    {
     "name": "stdout",
     "output_type": "stream",
     "text": [
      "Checking whether there is an H2O instance running at http://localhost:54321 ..... not found.\n",
      "Attempting to start a local H2O server...\n",
      "  Java Version: openjdk version \"11.0.8\" 2020-07-14; OpenJDK Runtime Environment (build 11.0.8+10-post-Ubuntu-0ubuntu120.04); OpenJDK 64-Bit Server VM (build 11.0.8+10-post-Ubuntu-0ubuntu120.04, mixed mode, sharing)\n",
      "  Starting server from /home/borja/.local/lib/python3.8/site-packages/h2o/backend/bin/h2o.jar\n",
      "  Ice root: /tmp/tmpam7dxh4t\n",
      "  JVM stdout: /tmp/tmpam7dxh4t/h2o_borja_started_from_python.out\n",
      "  JVM stderr: /tmp/tmpam7dxh4t/h2o_borja_started_from_python.err\n",
      "  Server is running at http://127.0.0.1:54321\n",
      "Connecting to H2O server at http://127.0.0.1:54321 ... successful.\n"
     ]
    },
    {
     "data": {
      "text/html": [
       "<div style=\"overflow:auto\"><table style=\"width:50%\"><tr><td>H2O_cluster_uptime:</td>\n",
       "<td>01 secs</td></tr>\n",
       "<tr><td>H2O_cluster_timezone:</td>\n",
       "<td>Europe/Madrid</td></tr>\n",
       "<tr><td>H2O_data_parsing_timezone:</td>\n",
       "<td>UTC</td></tr>\n",
       "<tr><td>H2O_cluster_version:</td>\n",
       "<td>3.31.0.5213</td></tr>\n",
       "<tr><td>H2O_cluster_version_age:</td>\n",
       "<td>1 day </td></tr>\n",
       "<tr><td>H2O_cluster_name:</td>\n",
       "<td>H2O_from_python_borja_2nd914</td></tr>\n",
       "<tr><td>H2O_cluster_total_nodes:</td>\n",
       "<td>1</td></tr>\n",
       "<tr><td>H2O_cluster_free_memory:</td>\n",
       "<td>3.881 Gb</td></tr>\n",
       "<tr><td>H2O_cluster_total_cores:</td>\n",
       "<td>8</td></tr>\n",
       "<tr><td>H2O_cluster_allowed_cores:</td>\n",
       "<td>8</td></tr>\n",
       "<tr><td>H2O_cluster_status:</td>\n",
       "<td>accepting new members, healthy</td></tr>\n",
       "<tr><td>H2O_connection_url:</td>\n",
       "<td>http://127.0.0.1:54321</td></tr>\n",
       "<tr><td>H2O_connection_proxy:</td>\n",
       "<td>{\"http\": null, \"https\": null}</td></tr>\n",
       "<tr><td>H2O_internal_security:</td>\n",
       "<td>False</td></tr>\n",
       "<tr><td>H2O_API_Extensions:</td>\n",
       "<td>Amazon S3, XGBoost, Algos, AutoML, Core V3, TargetEncoder, Core V4</td></tr>\n",
       "<tr><td>Python_version:</td>\n",
       "<td>3.8.2 final</td></tr></table></div>"
      ],
      "text/plain": [
       "--------------------------  ------------------------------------------------------------------\n",
       "H2O_cluster_uptime:         01 secs\n",
       "H2O_cluster_timezone:       Europe/Madrid\n",
       "H2O_data_parsing_timezone:  UTC\n",
       "H2O_cluster_version:        3.31.0.5213\n",
       "H2O_cluster_version_age:    1 day\n",
       "H2O_cluster_name:           H2O_from_python_borja_2nd914\n",
       "H2O_cluster_total_nodes:    1\n",
       "H2O_cluster_free_memory:    3.881 Gb\n",
       "H2O_cluster_total_cores:    8\n",
       "H2O_cluster_allowed_cores:  8\n",
       "H2O_cluster_status:         accepting new members, healthy\n",
       "H2O_connection_url:         http://127.0.0.1:54321\n",
       "H2O_connection_proxy:       {\"http\": null, \"https\": null}\n",
       "H2O_internal_security:      False\n",
       "H2O_API_Extensions:         Amazon S3, XGBoost, Algos, AutoML, Core V3, TargetEncoder, Core V4\n",
       "Python_version:             3.8.2 final\n",
       "--------------------------  ------------------------------------------------------------------"
      ]
     },
     "metadata": {},
     "output_type": "display_data"
    }
   ],
   "source": [
    "h2o.init()"
   ]
  },
  {
   "cell_type": "code",
   "execution_count": 3,
   "metadata": {},
   "outputs": [
    {
     "name": "stdout",
     "output_type": "stream",
     "text": [
      "Parse progress: |█████████████████████████████████████████████████████████| 100%\n"
     ]
    }
   ],
   "source": [
    "df = h2o.import_file(path=\"output/train_all.csv\")"
   ]
  },
  {
   "cell_type": "code",
   "execution_count": 4,
   "metadata": {},
   "outputs": [
    {
     "data": {
      "text/plain": [
       "(40455, 14)"
      ]
     },
     "execution_count": 4,
     "metadata": {},
     "output_type": "execute_result"
    }
   ],
   "source": [
    "df.shape"
   ]
  },
  {
   "cell_type": "code",
   "execution_count": 5,
   "metadata": {},
   "outputs": [
    {
     "data": {
      "text/html": [
       "<table>\n",
       "<thead>\n",
       "<tr><th style=\"text-align: right;\">  id</th><th style=\"text-align: right;\">  carat</th><th>cut      </th><th>color  </th><th>clarity  </th><th style=\"text-align: right;\">  depth</th><th style=\"text-align: right;\">  table</th><th style=\"text-align: right;\">   x</th><th style=\"text-align: right;\">   y</th><th style=\"text-align: right;\">   z</th><th style=\"text-align: right;\">  price</th><th style=\"text-align: right;\">  color2</th><th style=\"text-align: right;\">  cut2</th><th style=\"text-align: right;\">  clarity2</th></tr>\n",
       "</thead>\n",
       "<tbody>\n",
       "<tr><td style=\"text-align: right;\">   0</td><td style=\"text-align: right;\">   1.12</td><td>Premium  </td><td>H      </td><td>SI1      </td><td style=\"text-align: right;\">   61.6</td><td style=\"text-align: right;\">     59</td><td style=\"text-align: right;\">6.67</td><td style=\"text-align: right;\">6.63</td><td style=\"text-align: right;\">4.1 </td><td style=\"text-align: right;\">   5363</td><td style=\"text-align: right;\">       4</td><td style=\"text-align: right;\">     3</td><td style=\"text-align: right;\">         2</td></tr>\n",
       "<tr><td style=\"text-align: right;\">   1</td><td style=\"text-align: right;\">   1.14</td><td>Very Good</td><td>E      </td><td>SI2      </td><td style=\"text-align: right;\">   60  </td><td style=\"text-align: right;\">     54</td><td style=\"text-align: right;\">6.74</td><td style=\"text-align: right;\">6.97</td><td style=\"text-align: right;\">4.11</td><td style=\"text-align: right;\">   5593</td><td style=\"text-align: right;\">       1</td><td style=\"text-align: right;\">     4</td><td style=\"text-align: right;\">         3</td></tr>\n",
       "<tr><td style=\"text-align: right;\">   2</td><td style=\"text-align: right;\">   0.9 </td><td>Very Good</td><td>D      </td><td>SI2      </td><td style=\"text-align: right;\">   60.3</td><td style=\"text-align: right;\">     63</td><td style=\"text-align: right;\">6.12</td><td style=\"text-align: right;\">6.22</td><td style=\"text-align: right;\">3.72</td><td style=\"text-align: right;\">   3534</td><td style=\"text-align: right;\">       0</td><td style=\"text-align: right;\">     4</td><td style=\"text-align: right;\">         3</td></tr>\n",
       "<tr><td style=\"text-align: right;\">   3</td><td style=\"text-align: right;\">   0.71</td><td>Ideal    </td><td>E      </td><td>VS1      </td><td style=\"text-align: right;\">   61.9</td><td style=\"text-align: right;\">     54</td><td style=\"text-align: right;\">5.74</td><td style=\"text-align: right;\">5.76</td><td style=\"text-align: right;\">3.56</td><td style=\"text-align: right;\">   3212</td><td style=\"text-align: right;\">       1</td><td style=\"text-align: right;\">     2</td><td style=\"text-align: right;\">         4</td></tr>\n",
       "<tr><td style=\"text-align: right;\">   4</td><td style=\"text-align: right;\">   0.34</td><td>Very Good</td><td>F      </td><td>SI2      </td><td style=\"text-align: right;\">   60  </td><td style=\"text-align: right;\">     62</td><td style=\"text-align: right;\">4.51</td><td style=\"text-align: right;\">4.55</td><td style=\"text-align: right;\">2.72</td><td style=\"text-align: right;\">    447</td><td style=\"text-align: right;\">       2</td><td style=\"text-align: right;\">     4</td><td style=\"text-align: right;\">         3</td></tr>\n",
       "<tr><td style=\"text-align: right;\">   5</td><td style=\"text-align: right;\">   0.33</td><td>Very Good</td><td>E      </td><td>VS2      </td><td style=\"text-align: right;\">   63.1</td><td style=\"text-align: right;\">     57</td><td style=\"text-align: right;\">4.38</td><td style=\"text-align: right;\">4.43</td><td style=\"text-align: right;\">2.78</td><td style=\"text-align: right;\">    672</td><td style=\"text-align: right;\">       1</td><td style=\"text-align: right;\">     4</td><td style=\"text-align: right;\">         5</td></tr>\n",
       "<tr><td style=\"text-align: right;\">   6</td><td style=\"text-align: right;\">   0.55</td><td>Premium  </td><td>I      </td><td>VVS1     </td><td style=\"text-align: right;\">   61.3</td><td style=\"text-align: right;\">     59</td><td style=\"text-align: right;\">5.27</td><td style=\"text-align: right;\">5.3 </td><td style=\"text-align: right;\">3.24</td><td style=\"text-align: right;\">   1593</td><td style=\"text-align: right;\">       5</td><td style=\"text-align: right;\">     3</td><td style=\"text-align: right;\">         6</td></tr>\n",
       "<tr><td style=\"text-align: right;\">   7</td><td style=\"text-align: right;\">   1.19</td><td>Premium  </td><td>D      </td><td>SI2      </td><td style=\"text-align: right;\">   58.8</td><td style=\"text-align: right;\">     58</td><td style=\"text-align: right;\">7.04</td><td style=\"text-align: right;\">6.9 </td><td style=\"text-align: right;\">4.1 </td><td style=\"text-align: right;\">   5504</td><td style=\"text-align: right;\">       0</td><td style=\"text-align: right;\">     3</td><td style=\"text-align: right;\">         3</td></tr>\n",
       "<tr><td style=\"text-align: right;\">   8</td><td style=\"text-align: right;\">   0.41</td><td>Premium  </td><td>E      </td><td>VS1      </td><td style=\"text-align: right;\">   60.4</td><td style=\"text-align: right;\">     58</td><td style=\"text-align: right;\">4.78</td><td style=\"text-align: right;\">4.82</td><td style=\"text-align: right;\">2.9 </td><td style=\"text-align: right;\">   1079</td><td style=\"text-align: right;\">       1</td><td style=\"text-align: right;\">     3</td><td style=\"text-align: right;\">         4</td></tr>\n",
       "<tr><td style=\"text-align: right;\">   9</td><td style=\"text-align: right;\">   0.3 </td><td>Premium  </td><td>G      </td><td>SI2      </td><td style=\"text-align: right;\">   62.5</td><td style=\"text-align: right;\">     59</td><td style=\"text-align: right;\">4.27</td><td style=\"text-align: right;\">4.31</td><td style=\"text-align: right;\">2.68</td><td style=\"text-align: right;\">    394</td><td style=\"text-align: right;\">       3</td><td style=\"text-align: right;\">     3</td><td style=\"text-align: right;\">         3</td></tr>\n",
       "</tbody>\n",
       "</table>"
      ]
     },
     "metadata": {},
     "output_type": "display_data"
    },
    {
     "data": {
      "text/plain": []
     },
     "metadata": {},
     "output_type": "display_data"
    }
   ],
   "source": [
    "display(df.head())"
   ]
  },
  {
   "cell_type": "code",
   "execution_count": 6,
   "metadata": {},
   "outputs": [
    {
     "name": "stdout",
     "output_type": "stream",
     "text": [
      "Parse progress: |█████████████████████████████████████████████████████████| 100%\n"
     ]
    }
   ],
   "source": [
    "test = h2o.import_file(path=\"inputs/predict.csv\")"
   ]
  },
  {
   "cell_type": "code",
   "execution_count": 7,
   "metadata": {},
   "outputs": [],
   "source": [
    "test = test.as_data_frame()"
   ]
  },
  {
   "cell_type": "code",
   "execution_count": 8,
   "metadata": {},
   "outputs": [
    {
     "data": {
      "text/html": [
       "<div>\n",
       "<style scoped>\n",
       "    .dataframe tbody tr th:only-of-type {\n",
       "        vertical-align: middle;\n",
       "    }\n",
       "\n",
       "    .dataframe tbody tr th {\n",
       "        vertical-align: top;\n",
       "    }\n",
       "\n",
       "    .dataframe thead th {\n",
       "        text-align: right;\n",
       "    }\n",
       "</style>\n",
       "<table border=\"1\" class=\"dataframe\">\n",
       "  <thead>\n",
       "    <tr style=\"text-align: right;\">\n",
       "      <th></th>\n",
       "      <th>carat</th>\n",
       "      <th>cut</th>\n",
       "      <th>color</th>\n",
       "      <th>clarity</th>\n",
       "      <th>x</th>\n",
       "      <th>y</th>\n",
       "      <th>z</th>\n",
       "    </tr>\n",
       "  </thead>\n",
       "  <tbody>\n",
       "    <tr>\n",
       "      <th>0</th>\n",
       "      <td>0.33</td>\n",
       "      <td>Very Good</td>\n",
       "      <td>I</td>\n",
       "      <td>IF</td>\n",
       "      <td>4.44</td>\n",
       "      <td>4.46</td>\n",
       "      <td>2.76</td>\n",
       "    </tr>\n",
       "    <tr>\n",
       "      <th>1</th>\n",
       "      <td>1.21</td>\n",
       "      <td>Very Good</td>\n",
       "      <td>D</td>\n",
       "      <td>SI2</td>\n",
       "      <td>6.77</td>\n",
       "      <td>6.83</td>\n",
       "      <td>4.24</td>\n",
       "    </tr>\n",
       "    <tr>\n",
       "      <th>2</th>\n",
       "      <td>1.06</td>\n",
       "      <td>Very Good</td>\n",
       "      <td>D</td>\n",
       "      <td>SI1</td>\n",
       "      <td>6.64</td>\n",
       "      <td>6.71</td>\n",
       "      <td>3.96</td>\n",
       "    </tr>\n",
       "    <tr>\n",
       "      <th>3</th>\n",
       "      <td>0.36</td>\n",
       "      <td>Ideal</td>\n",
       "      <td>E</td>\n",
       "      <td>VVS1</td>\n",
       "      <td>4.64</td>\n",
       "      <td>4.61</td>\n",
       "      <td>2.54</td>\n",
       "    </tr>\n",
       "    <tr>\n",
       "      <th>4</th>\n",
       "      <td>0.70</td>\n",
       "      <td>Ideal</td>\n",
       "      <td>E</td>\n",
       "      <td>VS1</td>\n",
       "      <td>5.67</td>\n",
       "      <td>5.72</td>\n",
       "      <td>3.55</td>\n",
       "    </tr>\n",
       "  </tbody>\n",
       "</table>\n",
       "</div>"
      ],
      "text/plain": [
       "   carat        cut color clarity     x     y     z\n",
       "0   0.33  Very Good     I      IF  4.44  4.46  2.76\n",
       "1   1.21  Very Good     D     SI2  6.77  6.83  4.24\n",
       "2   1.06  Very Good     D     SI1  6.64  6.71  3.96\n",
       "3   0.36      Ideal     E    VVS1  4.64  4.61  2.54\n",
       "4   0.70      Ideal     E     VS1  5.67  5.72  3.55"
      ]
     },
     "execution_count": 8,
     "metadata": {},
     "output_type": "execute_result"
    }
   ],
   "source": [
    "\n",
    "test = test[[\"carat\",\"cut\",\"color\",\"clarity\",\"x\",\"y\",\"z\"]]\n",
    "test.head()"
   ]
  },
  {
   "cell_type": "code",
   "execution_count": 9,
   "metadata": {},
   "outputs": [],
   "source": [
    "def cutchanger(x):\n",
    "    if x== \"Ideal\":\n",
    "        return 2\n",
    "    elif x== \"Premium\":\n",
    "        return 3\n",
    "    elif x == \"Very Good\":\n",
    "        return 4\n",
    "    elif x== \"Good\":\n",
    "        return 1\n",
    "    else:\n",
    "        return 0\n",
    "    \n",
    "def colorchanger(x):\n",
    "    if x== \"G\":\n",
    "        return 3\n",
    "    elif x== \"E\":\n",
    "        return 1\n",
    "    elif x == \"F\":\n",
    "        return 2\n",
    "    elif x== \"H\":\n",
    "        return 4\n",
    "    elif x== \"D\":\n",
    "        return 0\n",
    "    elif x== \"I\":\n",
    "        return 5\n",
    "    else:\n",
    "        return 6\n",
    "    \n",
    "def clarytychanger(x):\n",
    "    if x== \"SI1\":\n",
    "        return 2\n",
    "    elif x== \"VS2\":\n",
    "        return 5\n",
    "    elif x == \"SI2\":\n",
    "        return 3\n",
    "    elif x== \"VS1\":\n",
    "        return 4\n",
    "    elif x== \"VVS2\":\n",
    "        return 7\n",
    "    elif x== \"VVS1\":\n",
    "        return 6\n",
    "    elif x== \"IF\":\n",
    "        return 1\n",
    "    else:\n",
    "        return 0"
   ]
  },
  {
   "cell_type": "code",
   "execution_count": 10,
   "metadata": {},
   "outputs": [],
   "source": [
    "test[\"cut2\"] = test[\"cut\"].apply(cutchanger)\n",
    "test[\"color2\"] = test[\"color\"].apply(colorchanger)\n",
    "test[\"clarity2\"] = test[\"clarity\"].apply(clarytychanger)"
   ]
  },
  {
   "cell_type": "code",
   "execution_count": 11,
   "metadata": {},
   "outputs": [
    {
     "data": {
      "text/html": [
       "<div>\n",
       "<style scoped>\n",
       "    .dataframe tbody tr th:only-of-type {\n",
       "        vertical-align: middle;\n",
       "    }\n",
       "\n",
       "    .dataframe tbody tr th {\n",
       "        vertical-align: top;\n",
       "    }\n",
       "\n",
       "    .dataframe thead th {\n",
       "        text-align: right;\n",
       "    }\n",
       "</style>\n",
       "<table border=\"1\" class=\"dataframe\">\n",
       "  <thead>\n",
       "    <tr style=\"text-align: right;\">\n",
       "      <th></th>\n",
       "      <th>carat</th>\n",
       "      <th>cut</th>\n",
       "      <th>color</th>\n",
       "      <th>clarity</th>\n",
       "      <th>x</th>\n",
       "      <th>y</th>\n",
       "      <th>z</th>\n",
       "      <th>cut2</th>\n",
       "      <th>color2</th>\n",
       "      <th>clarity2</th>\n",
       "    </tr>\n",
       "  </thead>\n",
       "  <tbody>\n",
       "    <tr>\n",
       "      <th>0</th>\n",
       "      <td>0.33</td>\n",
       "      <td>Very Good</td>\n",
       "      <td>I</td>\n",
       "      <td>IF</td>\n",
       "      <td>4.44</td>\n",
       "      <td>4.46</td>\n",
       "      <td>2.76</td>\n",
       "      <td>4</td>\n",
       "      <td>5</td>\n",
       "      <td>1</td>\n",
       "    </tr>\n",
       "    <tr>\n",
       "      <th>1</th>\n",
       "      <td>1.21</td>\n",
       "      <td>Very Good</td>\n",
       "      <td>D</td>\n",
       "      <td>SI2</td>\n",
       "      <td>6.77</td>\n",
       "      <td>6.83</td>\n",
       "      <td>4.24</td>\n",
       "      <td>4</td>\n",
       "      <td>0</td>\n",
       "      <td>3</td>\n",
       "    </tr>\n",
       "    <tr>\n",
       "      <th>2</th>\n",
       "      <td>1.06</td>\n",
       "      <td>Very Good</td>\n",
       "      <td>D</td>\n",
       "      <td>SI1</td>\n",
       "      <td>6.64</td>\n",
       "      <td>6.71</td>\n",
       "      <td>3.96</td>\n",
       "      <td>4</td>\n",
       "      <td>0</td>\n",
       "      <td>2</td>\n",
       "    </tr>\n",
       "    <tr>\n",
       "      <th>3</th>\n",
       "      <td>0.36</td>\n",
       "      <td>Ideal</td>\n",
       "      <td>E</td>\n",
       "      <td>VVS1</td>\n",
       "      <td>4.64</td>\n",
       "      <td>4.61</td>\n",
       "      <td>2.54</td>\n",
       "      <td>2</td>\n",
       "      <td>1</td>\n",
       "      <td>6</td>\n",
       "    </tr>\n",
       "    <tr>\n",
       "      <th>4</th>\n",
       "      <td>0.70</td>\n",
       "      <td>Ideal</td>\n",
       "      <td>E</td>\n",
       "      <td>VS1</td>\n",
       "      <td>5.67</td>\n",
       "      <td>5.72</td>\n",
       "      <td>3.55</td>\n",
       "      <td>2</td>\n",
       "      <td>1</td>\n",
       "      <td>4</td>\n",
       "    </tr>\n",
       "  </tbody>\n",
       "</table>\n",
       "</div>"
      ],
      "text/plain": [
       "   carat        cut color clarity     x     y     z  cut2  color2  clarity2\n",
       "0   0.33  Very Good     I      IF  4.44  4.46  2.76     4       5         1\n",
       "1   1.21  Very Good     D     SI2  6.77  6.83  4.24     4       0         3\n",
       "2   1.06  Very Good     D     SI1  6.64  6.71  3.96     4       0         2\n",
       "3   0.36      Ideal     E    VVS1  4.64  4.61  2.54     2       1         6\n",
       "4   0.70      Ideal     E     VS1  5.67  5.72  3.55     2       1         4"
      ]
     },
     "execution_count": 11,
     "metadata": {},
     "output_type": "execute_result"
    }
   ],
   "source": [
    "test.head()"
   ]
  },
  {
   "cell_type": "code",
   "execution_count": 12,
   "metadata": {},
   "outputs": [],
   "source": [
    "response= \"price\""
   ]
  },
  {
   "cell_type": "code",
   "execution_count": 13,
   "metadata": {},
   "outputs": [],
   "source": [
    "predictors = [\"carat\",\"color2\",\"cut2\",\"clarity2\",\"x\",\"y\",\"z\"]"
   ]
  },
  {
   "cell_type": "code",
   "execution_count": 12,
   "metadata": {},
   "outputs": [
    {
     "name": "stdout",
     "output_type": "stream",
     "text": [
      "AutoML progress: |\n",
      "17:09:29.440: User specified a validation frame with cross-validation still enabled. Please note that the models will still be validated using cross-validation only, the validation frame will be used to provide purely informative validation metrics on the trained models.\n",
      "\n",
      "████████████████████████████████████████████████████████| 100%\n"
     ]
    }
   ],
   "source": [
    "from h2o.estimators import H2OSupportVectorMachineEstimator\n",
    "from h2o.automl import H2OAutoML\n",
    "diamons_model2 = H2OAutoML(verbosity = \"warn\")\n",
    "#for i in range(0,5):\n",
    "train, valid = df.split_frame(ratios = [.8])\n",
    "diamons_model2.train(x=predictors,\n",
    "               y=response,\n",
    "               training_frame=train,\n",
    "               validation_frame=valid\n",
    "                   )\n"
   ]
  },
  {
   "cell_type": "code",
   "execution_count": 13,
   "metadata": {},
   "outputs": [
    {
     "data": {
      "text/html": [
       "<table>\n",
       "<thead>\n",
       "<tr><th>model_id                                           </th><th style=\"text-align: right;\">  mean_residual_deviance</th><th style=\"text-align: right;\">   rmse</th><th style=\"text-align: right;\">   mse</th><th style=\"text-align: right;\">    mae</th><th style=\"text-align: right;\">      rmsle</th></tr>\n",
       "</thead>\n",
       "<tbody>\n",
       "<tr><td>StackedEnsemble_AllModels_AutoML_20201005_170929   </td><td style=\"text-align: right;\">                  296328</td><td style=\"text-align: right;\">544.36 </td><td style=\"text-align: right;\">296328</td><td style=\"text-align: right;\">272.154</td><td style=\"text-align: right;\">  0.0934735</td></tr>\n",
       "<tr><td>StackedEnsemble_BestOfFamily_AutoML_20201005_170929</td><td style=\"text-align: right;\">                  301766</td><td style=\"text-align: right;\">549.333</td><td style=\"text-align: right;\">301766</td><td style=\"text-align: right;\">277.232</td><td style=\"text-align: right;\">nan        </td></tr>\n",
       "<tr><td>GBM_4_AutoML_20201005_170929                       </td><td style=\"text-align: right;\">                  307080</td><td style=\"text-align: right;\">554.148</td><td style=\"text-align: right;\">307080</td><td style=\"text-align: right;\">279.251</td><td style=\"text-align: right;\">nan        </td></tr>\n",
       "<tr><td>GBM_grid__1_AutoML_20201005_170929_model_34        </td><td style=\"text-align: right;\">                  307738</td><td style=\"text-align: right;\">554.741</td><td style=\"text-align: right;\">307738</td><td style=\"text-align: right;\">279.088</td><td style=\"text-align: right;\">  0.0962785</td></tr>\n",
       "<tr><td>GBM_grid__1_AutoML_20201005_170929_model_30        </td><td style=\"text-align: right;\">                  308822</td><td style=\"text-align: right;\">555.717</td><td style=\"text-align: right;\">308822</td><td style=\"text-align: right;\">283.673</td><td style=\"text-align: right;\">  0.100871 </td></tr>\n",
       "<tr><td>GBM_grid__1_AutoML_20201005_170929_model_13        </td><td style=\"text-align: right;\">                  312278</td><td style=\"text-align: right;\">558.818</td><td style=\"text-align: right;\">312278</td><td style=\"text-align: right;\">291.125</td><td style=\"text-align: right;\">  0.107641 </td></tr>\n",
       "<tr><td>GBM_2_AutoML_20201005_170929                       </td><td style=\"text-align: right;\">                  312712</td><td style=\"text-align: right;\">559.207</td><td style=\"text-align: right;\">312712</td><td style=\"text-align: right;\">288.6  </td><td style=\"text-align: right;\">nan        </td></tr>\n",
       "<tr><td>GBM_grid__1_AutoML_20201005_170929_model_26        </td><td style=\"text-align: right;\">                  313459</td><td style=\"text-align: right;\">559.874</td><td style=\"text-align: right;\">313459</td><td style=\"text-align: right;\">282.484</td><td style=\"text-align: right;\">  0.0985353</td></tr>\n",
       "<tr><td>GBM_3_AutoML_20201005_170929                       </td><td style=\"text-align: right;\">                  314248</td><td style=\"text-align: right;\">560.578</td><td style=\"text-align: right;\">314248</td><td style=\"text-align: right;\">287.008</td><td style=\"text-align: right;\">nan        </td></tr>\n",
       "<tr><td>GBM_grid__1_AutoML_20201005_170929_model_12        </td><td style=\"text-align: right;\">                  316508</td><td style=\"text-align: right;\">562.59 </td><td style=\"text-align: right;\">316508</td><td style=\"text-align: right;\">279.453</td><td style=\"text-align: right;\">nan        </td></tr>\n",
       "</tbody>\n",
       "</table>"
      ]
     },
     "metadata": {},
     "output_type": "display_data"
    },
    {
     "data": {
      "text/plain": []
     },
     "execution_count": 13,
     "metadata": {},
     "output_type": "execute_result"
    }
   ],
   "source": [
    "diamons_model2.leaderboard\n"
   ]
  },
  {
   "cell_type": "code",
   "execution_count": 196,
   "metadata": {},
   "outputs": [
    {
     "data": {
      "text/html": [
       "<div>\n",
       "<style scoped>\n",
       "    .dataframe tbody tr th:only-of-type {\n",
       "        vertical-align: middle;\n",
       "    }\n",
       "\n",
       "    .dataframe tbody tr th {\n",
       "        vertical-align: top;\n",
       "    }\n",
       "\n",
       "    .dataframe thead th {\n",
       "        text-align: right;\n",
       "    }\n",
       "</style>\n",
       "<table border=\"1\" class=\"dataframe\">\n",
       "  <thead>\n",
       "    <tr style=\"text-align: right;\">\n",
       "      <th></th>\n",
       "      <th>carat</th>\n",
       "      <th>cut</th>\n",
       "      <th>color</th>\n",
       "      <th>clarity</th>\n",
       "      <th>x</th>\n",
       "      <th>y</th>\n",
       "      <th>z</th>\n",
       "      <th>cut2</th>\n",
       "      <th>color2</th>\n",
       "      <th>clarity2</th>\n",
       "    </tr>\n",
       "  </thead>\n",
       "  <tbody>\n",
       "    <tr>\n",
       "      <th>0</th>\n",
       "      <td>0.33</td>\n",
       "      <td>Very Good</td>\n",
       "      <td>I</td>\n",
       "      <td>IF</td>\n",
       "      <td>4.44</td>\n",
       "      <td>4.46</td>\n",
       "      <td>2.76</td>\n",
       "      <td>4</td>\n",
       "      <td>5</td>\n",
       "      <td>1</td>\n",
       "    </tr>\n",
       "    <tr>\n",
       "      <th>1</th>\n",
       "      <td>1.21</td>\n",
       "      <td>Very Good</td>\n",
       "      <td>D</td>\n",
       "      <td>SI2</td>\n",
       "      <td>6.77</td>\n",
       "      <td>6.83</td>\n",
       "      <td>4.24</td>\n",
       "      <td>4</td>\n",
       "      <td>0</td>\n",
       "      <td>3</td>\n",
       "    </tr>\n",
       "    <tr>\n",
       "      <th>2</th>\n",
       "      <td>1.06</td>\n",
       "      <td>Very Good</td>\n",
       "      <td>D</td>\n",
       "      <td>SI1</td>\n",
       "      <td>6.64</td>\n",
       "      <td>6.71</td>\n",
       "      <td>3.96</td>\n",
       "      <td>4</td>\n",
       "      <td>0</td>\n",
       "      <td>2</td>\n",
       "    </tr>\n",
       "    <tr>\n",
       "      <th>3</th>\n",
       "      <td>0.36</td>\n",
       "      <td>Ideal</td>\n",
       "      <td>E</td>\n",
       "      <td>VVS1</td>\n",
       "      <td>4.64</td>\n",
       "      <td>4.61</td>\n",
       "      <td>2.54</td>\n",
       "      <td>2</td>\n",
       "      <td>1</td>\n",
       "      <td>6</td>\n",
       "    </tr>\n",
       "    <tr>\n",
       "      <th>4</th>\n",
       "      <td>0.70</td>\n",
       "      <td>Ideal</td>\n",
       "      <td>E</td>\n",
       "      <td>VS1</td>\n",
       "      <td>5.67</td>\n",
       "      <td>5.72</td>\n",
       "      <td>3.55</td>\n",
       "      <td>2</td>\n",
       "      <td>1</td>\n",
       "      <td>4</td>\n",
       "    </tr>\n",
       "    <tr>\n",
       "      <th>...</th>\n",
       "      <td>...</td>\n",
       "      <td>...</td>\n",
       "      <td>...</td>\n",
       "      <td>...</td>\n",
       "      <td>...</td>\n",
       "      <td>...</td>\n",
       "      <td>...</td>\n",
       "      <td>...</td>\n",
       "      <td>...</td>\n",
       "      <td>...</td>\n",
       "    </tr>\n",
       "    <tr>\n",
       "      <th>13480</th>\n",
       "      <td>2.04</td>\n",
       "      <td>Good</td>\n",
       "      <td>D</td>\n",
       "      <td>SI1</td>\n",
       "      <td>8.15</td>\n",
       "      <td>8.11</td>\n",
       "      <td>5.03</td>\n",
       "      <td>1</td>\n",
       "      <td>0</td>\n",
       "      <td>2</td>\n",
       "    </tr>\n",
       "    <tr>\n",
       "      <th>13481</th>\n",
       "      <td>0.31</td>\n",
       "      <td>Ideal</td>\n",
       "      <td>G</td>\n",
       "      <td>IF</td>\n",
       "      <td>4.37</td>\n",
       "      <td>4.39</td>\n",
       "      <td>2.70</td>\n",
       "      <td>2</td>\n",
       "      <td>3</td>\n",
       "      <td>1</td>\n",
       "    </tr>\n",
       "    <tr>\n",
       "      <th>13482</th>\n",
       "      <td>0.52</td>\n",
       "      <td>Ideal</td>\n",
       "      <td>D</td>\n",
       "      <td>VVS2</td>\n",
       "      <td>5.14</td>\n",
       "      <td>5.18</td>\n",
       "      <td>3.20</td>\n",
       "      <td>2</td>\n",
       "      <td>0</td>\n",
       "      <td>7</td>\n",
       "    </tr>\n",
       "    <tr>\n",
       "      <th>13483</th>\n",
       "      <td>0.50</td>\n",
       "      <td>Premium</td>\n",
       "      <td>F</td>\n",
       "      <td>SI1</td>\n",
       "      <td>5.23</td>\n",
       "      <td>5.19</td>\n",
       "      <td>3.08</td>\n",
       "      <td>3</td>\n",
       "      <td>2</td>\n",
       "      <td>2</td>\n",
       "    </tr>\n",
       "    <tr>\n",
       "      <th>13484</th>\n",
       "      <td>0.53</td>\n",
       "      <td>Very Good</td>\n",
       "      <td>G</td>\n",
       "      <td>SI2</td>\n",
       "      <td>5.10</td>\n",
       "      <td>5.19</td>\n",
       "      <td>3.26</td>\n",
       "      <td>4</td>\n",
       "      <td>3</td>\n",
       "      <td>3</td>\n",
       "    </tr>\n",
       "  </tbody>\n",
       "</table>\n",
       "<p>13485 rows × 10 columns</p>\n",
       "</div>"
      ],
      "text/plain": [
       "       carat        cut color clarity     x     y     z  cut2  color2  \\\n",
       "0       0.33  Very Good     I      IF  4.44  4.46  2.76     4       5   \n",
       "1       1.21  Very Good     D     SI2  6.77  6.83  4.24     4       0   \n",
       "2       1.06  Very Good     D     SI1  6.64  6.71  3.96     4       0   \n",
       "3       0.36      Ideal     E    VVS1  4.64  4.61  2.54     2       1   \n",
       "4       0.70      Ideal     E     VS1  5.67  5.72  3.55     2       1   \n",
       "...      ...        ...   ...     ...   ...   ...   ...   ...     ...   \n",
       "13480   2.04       Good     D     SI1  8.15  8.11  5.03     1       0   \n",
       "13481   0.31      Ideal     G      IF  4.37  4.39  2.70     2       3   \n",
       "13482   0.52      Ideal     D    VVS2  5.14  5.18  3.20     2       0   \n",
       "13483   0.50    Premium     F     SI1  5.23  5.19  3.08     3       2   \n",
       "13484   0.53  Very Good     G     SI2  5.10  5.19  3.26     4       3   \n",
       "\n",
       "       clarity2  \n",
       "0             1  \n",
       "1             3  \n",
       "2             2  \n",
       "3             6  \n",
       "4             4  \n",
       "...         ...  \n",
       "13480         2  \n",
       "13481         1  \n",
       "13482         7  \n",
       "13483         2  \n",
       "13484         3  \n",
       "\n",
       "[13485 rows x 10 columns]"
      ]
     },
     "metadata": {},
     "output_type": "display_data"
    },
    {
     "name": "stdout",
     "output_type": "stream",
     "text": [
      "Parse progress: |█████████████████████████████████████████████████████████| 100%\n",
      "stackedensemble prediction progress: |████████████████████████████████████| 100%\n"
     ]
    },
    {
     "data": {
      "text/html": [
       "<table>\n",
       "<thead>\n",
       "<tr><th style=\"text-align: right;\">  predict</th></tr>\n",
       "</thead>\n",
       "<tbody>\n",
       "<tr><td style=\"text-align: right;\">  741.071</td></tr>\n",
       "<tr><td style=\"text-align: right;\"> 6020.29 </td></tr>\n",
       "<tr><td style=\"text-align: right;\"> 5860.77 </td></tr>\n",
       "<tr><td style=\"text-align: right;\"> 1094.31 </td></tr>\n",
       "<tr><td style=\"text-align: right;\"> 3242.59 </td></tr>\n",
       "<tr><td style=\"text-align: right;\">  527.861</td></tr>\n",
       "<tr><td style=\"text-align: right;\"> 1451.2  </td></tr>\n",
       "<tr><td style=\"text-align: right;\">  860.545</td></tr>\n",
       "<tr><td style=\"text-align: right;\"> 8478.68 </td></tr>\n",
       "<tr><td style=\"text-align: right;\">  623.155</td></tr>\n",
       "</tbody>\n",
       "</table>"
      ]
     },
     "metadata": {},
     "output_type": "display_data"
    },
    {
     "data": {
      "text/plain": []
     },
     "execution_count": 196,
     "metadata": {},
     "output_type": "execute_result"
    }
   ],
   "source": [
    "display(test)\n",
    "test = h2o.H2OFrame(test[[\"carat\",\"color2\",\"cut2\",\"clarity2\",\"x\",\"y\",\"z\"]].reset_index())\n",
    "pred = diamons_model2.leader.predict(test)\n",
    "pred"
   ]
  },
  {
   "cell_type": "code",
   "execution_count": 197,
   "metadata": {},
   "outputs": [
    {
     "data": {
      "text/html": [
       "<table>\n",
       "<thead>\n",
       "<tr><th style=\"text-align: right;\">  index</th><th style=\"text-align: right;\">  carat</th><th style=\"text-align: right;\">  color2</th><th style=\"text-align: right;\">  cut2</th><th style=\"text-align: right;\">  clarity2</th><th style=\"text-align: right;\">   x</th><th style=\"text-align: right;\">   y</th><th style=\"text-align: right;\">   z</th><th style=\"text-align: right;\">   price</th></tr>\n",
       "</thead>\n",
       "<tbody>\n",
       "<tr><td style=\"text-align: right;\">      0</td><td style=\"text-align: right;\">   0.33</td><td style=\"text-align: right;\">       5</td><td style=\"text-align: right;\">     4</td><td style=\"text-align: right;\">         1</td><td style=\"text-align: right;\">4.44</td><td style=\"text-align: right;\">4.46</td><td style=\"text-align: right;\">2.76</td><td style=\"text-align: right;\"> 741.071</td></tr>\n",
       "<tr><td style=\"text-align: right;\">      1</td><td style=\"text-align: right;\">   1.21</td><td style=\"text-align: right;\">       0</td><td style=\"text-align: right;\">     4</td><td style=\"text-align: right;\">         3</td><td style=\"text-align: right;\">6.77</td><td style=\"text-align: right;\">6.83</td><td style=\"text-align: right;\">4.24</td><td style=\"text-align: right;\">6020.29 </td></tr>\n",
       "<tr><td style=\"text-align: right;\">      2</td><td style=\"text-align: right;\">   1.06</td><td style=\"text-align: right;\">       0</td><td style=\"text-align: right;\">     4</td><td style=\"text-align: right;\">         2</td><td style=\"text-align: right;\">6.64</td><td style=\"text-align: right;\">6.71</td><td style=\"text-align: right;\">3.96</td><td style=\"text-align: right;\">5860.77 </td></tr>\n",
       "<tr><td style=\"text-align: right;\">      3</td><td style=\"text-align: right;\">   0.36</td><td style=\"text-align: right;\">       1</td><td style=\"text-align: right;\">     2</td><td style=\"text-align: right;\">         6</td><td style=\"text-align: right;\">4.64</td><td style=\"text-align: right;\">4.61</td><td style=\"text-align: right;\">2.54</td><td style=\"text-align: right;\">1094.31 </td></tr>\n",
       "<tr><td style=\"text-align: right;\">      4</td><td style=\"text-align: right;\">   0.7 </td><td style=\"text-align: right;\">       1</td><td style=\"text-align: right;\">     2</td><td style=\"text-align: right;\">         4</td><td style=\"text-align: right;\">5.67</td><td style=\"text-align: right;\">5.72</td><td style=\"text-align: right;\">3.55</td><td style=\"text-align: right;\">3242.59 </td></tr>\n",
       "<tr><td style=\"text-align: right;\">      5</td><td style=\"text-align: right;\">   0.3 </td><td style=\"text-align: right;\">       5</td><td style=\"text-align: right;\">     3</td><td style=\"text-align: right;\">         7</td><td style=\"text-align: right;\">4.28</td><td style=\"text-align: right;\">4.37</td><td style=\"text-align: right;\">2.67</td><td style=\"text-align: right;\"> 527.861</td></tr>\n",
       "<tr><td style=\"text-align: right;\">      6</td><td style=\"text-align: right;\">   0.52</td><td style=\"text-align: right;\">       1</td><td style=\"text-align: right;\">     3</td><td style=\"text-align: right;\">         2</td><td style=\"text-align: right;\">5.3 </td><td style=\"text-align: right;\">5.21</td><td style=\"text-align: right;\">3.1 </td><td style=\"text-align: right;\">1451.2  </td></tr>\n",
       "<tr><td style=\"text-align: right;\">      7</td><td style=\"text-align: right;\">   0.32</td><td style=\"text-align: right;\">       3</td><td style=\"text-align: right;\">     2</td><td style=\"text-align: right;\">         6</td><td style=\"text-align: right;\">4.39</td><td style=\"text-align: right;\">4.4 </td><td style=\"text-align: right;\">2.72</td><td style=\"text-align: right;\"> 860.545</td></tr>\n",
       "<tr><td style=\"text-align: right;\">      8</td><td style=\"text-align: right;\">   1.51</td><td style=\"text-align: right;\">       2</td><td style=\"text-align: right;\">     1</td><td style=\"text-align: right;\">         3</td><td style=\"text-align: right;\">7.22</td><td style=\"text-align: right;\">7.28</td><td style=\"text-align: right;\">4.56</td><td style=\"text-align: right;\">8478.68 </td></tr>\n",
       "<tr><td style=\"text-align: right;\">      9</td><td style=\"text-align: right;\">   0.42</td><td style=\"text-align: right;\">       6</td><td style=\"text-align: right;\">     2</td><td style=\"text-align: right;\">         5</td><td style=\"text-align: right;\">4.79</td><td style=\"text-align: right;\">4.86</td><td style=\"text-align: right;\">2.96</td><td style=\"text-align: right;\"> 623.155</td></tr>\n",
       "</tbody>\n",
       "</table>"
      ]
     },
     "metadata": {},
     "output_type": "display_data"
    },
    {
     "data": {
      "text/plain": []
     },
     "execution_count": 197,
     "metadata": {},
     "output_type": "execute_result"
    }
   ],
   "source": [
    "test[\"price\"] = pred\n",
    "test.head()"
   ]
  },
  {
   "cell_type": "code",
   "execution_count": 198,
   "metadata": {},
   "outputs": [],
   "source": [
    "upload = test[[\"index\",\"price\"]]"
   ]
  },
  {
   "cell_type": "code",
   "execution_count": 199,
   "metadata": {},
   "outputs": [
    {
     "data": {
      "text/html": [
       "<table>\n",
       "<thead>\n",
       "<tr><th style=\"text-align: right;\">  id</th><th style=\"text-align: right;\">   price</th></tr>\n",
       "</thead>\n",
       "<tbody>\n",
       "<tr><td style=\"text-align: right;\">   0</td><td style=\"text-align: right;\"> 741.071</td></tr>\n",
       "<tr><td style=\"text-align: right;\">   1</td><td style=\"text-align: right;\">6020.29 </td></tr>\n",
       "<tr><td style=\"text-align: right;\">   2</td><td style=\"text-align: right;\">5860.77 </td></tr>\n",
       "<tr><td style=\"text-align: right;\">   3</td><td style=\"text-align: right;\">1094.31 </td></tr>\n",
       "<tr><td style=\"text-align: right;\">   4</td><td style=\"text-align: right;\">3242.59 </td></tr>\n",
       "<tr><td style=\"text-align: right;\">   5</td><td style=\"text-align: right;\"> 527.861</td></tr>\n",
       "<tr><td style=\"text-align: right;\">   6</td><td style=\"text-align: right;\">1451.2  </td></tr>\n",
       "<tr><td style=\"text-align: right;\">   7</td><td style=\"text-align: right;\"> 860.545</td></tr>\n",
       "<tr><td style=\"text-align: right;\">   8</td><td style=\"text-align: right;\">8478.68 </td></tr>\n",
       "<tr><td style=\"text-align: right;\">   9</td><td style=\"text-align: right;\"> 623.155</td></tr>\n",
       "</tbody>\n",
       "</table>"
      ]
     },
     "metadata": {},
     "output_type": "display_data"
    },
    {
     "data": {
      "text/plain": []
     },
     "execution_count": 199,
     "metadata": {},
     "output_type": "execute_result"
    }
   ],
   "source": [
    "upload.rename(columns={'index': 'id'})\n",
    "upload"
   ]
  },
  {
   "cell_type": "code",
   "execution_count": 200,
   "metadata": {},
   "outputs": [],
   "source": [
    "upload = upload.as_data_frame()"
   ]
  },
  {
   "cell_type": "code",
   "execution_count": 201,
   "metadata": {},
   "outputs": [
    {
     "data": {
      "text/html": [
       "<div>\n",
       "<style scoped>\n",
       "    .dataframe tbody tr th:only-of-type {\n",
       "        vertical-align: middle;\n",
       "    }\n",
       "\n",
       "    .dataframe tbody tr th {\n",
       "        vertical-align: top;\n",
       "    }\n",
       "\n",
       "    .dataframe thead th {\n",
       "        text-align: right;\n",
       "    }\n",
       "</style>\n",
       "<table border=\"1\" class=\"dataframe\">\n",
       "  <thead>\n",
       "    <tr style=\"text-align: right;\">\n",
       "      <th></th>\n",
       "      <th>id</th>\n",
       "      <th>price</th>\n",
       "    </tr>\n",
       "  </thead>\n",
       "  <tbody>\n",
       "    <tr>\n",
       "      <th>0</th>\n",
       "      <td>0</td>\n",
       "      <td>741.070832</td>\n",
       "    </tr>\n",
       "    <tr>\n",
       "      <th>1</th>\n",
       "      <td>1</td>\n",
       "      <td>6020.287084</td>\n",
       "    </tr>\n",
       "    <tr>\n",
       "      <th>2</th>\n",
       "      <td>2</td>\n",
       "      <td>5860.766629</td>\n",
       "    </tr>\n",
       "    <tr>\n",
       "      <th>3</th>\n",
       "      <td>3</td>\n",
       "      <td>1094.308954</td>\n",
       "    </tr>\n",
       "    <tr>\n",
       "      <th>4</th>\n",
       "      <td>4</td>\n",
       "      <td>3242.594916</td>\n",
       "    </tr>\n",
       "    <tr>\n",
       "      <th>...</th>\n",
       "      <td>...</td>\n",
       "      <td>...</td>\n",
       "    </tr>\n",
       "    <tr>\n",
       "      <th>13480</th>\n",
       "      <td>13480</td>\n",
       "      <td>16641.203582</td>\n",
       "    </tr>\n",
       "    <tr>\n",
       "      <th>13481</th>\n",
       "      <td>13481</td>\n",
       "      <td>901.644896</td>\n",
       "    </tr>\n",
       "    <tr>\n",
       "      <th>13482</th>\n",
       "      <td>13482</td>\n",
       "      <td>2520.101971</td>\n",
       "    </tr>\n",
       "    <tr>\n",
       "      <th>13483</th>\n",
       "      <td>13483</td>\n",
       "      <td>1287.148178</td>\n",
       "    </tr>\n",
       "    <tr>\n",
       "      <th>13484</th>\n",
       "      <td>13484</td>\n",
       "      <td>1106.432678</td>\n",
       "    </tr>\n",
       "  </tbody>\n",
       "</table>\n",
       "<p>13485 rows × 2 columns</p>\n",
       "</div>"
      ],
      "text/plain": [
       "          id         price\n",
       "0          0    741.070832\n",
       "1          1   6020.287084\n",
       "2          2   5860.766629\n",
       "3          3   1094.308954\n",
       "4          4   3242.594916\n",
       "...      ...           ...\n",
       "13480  13480  16641.203582\n",
       "13481  13481    901.644896\n",
       "13482  13482   2520.101971\n",
       "13483  13483   1287.148178\n",
       "13484  13484   1106.432678\n",
       "\n",
       "[13485 rows x 2 columns]"
      ]
     },
     "execution_count": 201,
     "metadata": {},
     "output_type": "execute_result"
    }
   ],
   "source": [
    "\n",
    "\n",
    "upload"
   ]
  },
  {
   "cell_type": "code",
   "execution_count": 202,
   "metadata": {},
   "outputs": [],
   "source": [
    "upload.to_csv(r'output/pred4.csv',index=False,header=True)"
   ]
  },
  {
   "cell_type": "code",
   "execution_count": null,
   "metadata": {},
   "outputs": [],
   "source": []
  },
  {
   "cell_type": "code",
   "execution_count": null,
   "metadata": {},
   "outputs": [],
   "source": []
  },
  {
   "cell_type": "code",
   "execution_count": 14,
   "metadata": {},
   "outputs": [
    {
     "name": "stdout",
     "output_type": "stream",
     "text": [
      "Parse progress: |█████████████████████████████████████████████████████████| 100%\n",
      "Parse progress: |█████████████████████████████████████████████████████████| 100%\n"
     ]
    }
   ],
   "source": [
    "df2 = h2o.import_file(path=\"inputs/train.csv\")\n",
    "test2 = h2o.import_file(path=\"inputs/predict.csv\")"
   ]
  },
  {
   "cell_type": "code",
   "execution_count": 15,
   "metadata": {},
   "outputs": [],
   "source": [
    "response= \"price\""
   ]
  },
  {
   "cell_type": "code",
   "execution_count": 16,
   "metadata": {},
   "outputs": [],
   "source": [
    "predictors = [\"carat\",\"color\",\"cut\",\"clarity\",\"x\",\"y\",\"z\"]"
   ]
  },
  {
   "cell_type": "code",
   "execution_count": 14,
   "metadata": {},
   "outputs": [
    {
     "name": "stdout",
     "output_type": "stream",
     "text": [
      "AutoML progress: |\n",
      "20:50:10.546: User specified a validation frame with cross-validation still enabled. Please note that the models will still be validated using cross-validation only, the validation frame will be used to provide purely informative validation metrics on the trained models.\n",
      "\n",
      "████████████████████████████████████████████████████████| 100%\n"
     ]
    }
   ],
   "source": [
    "from h2o.estimators import H2OSupportVectorMachineEstimator\n",
    "from h2o.automl import H2OAutoML\n",
    "diamons_model3 = H2OAutoML(verbosity = \"warn\")\n",
    "#for i in range(0,5):\n",
    "train, valid = df2.split_frame(ratios = [.8])\n",
    "diamons_model3.train(x=predictors,\n",
    "               y=response,\n",
    "               training_frame=train,\n",
    "               validation_frame=valid\n",
    "                   )\n"
   ]
  },
  {
   "cell_type": "code",
   "execution_count": 15,
   "metadata": {},
   "outputs": [
    {
     "data": {
      "text/html": [
       "<table>\n",
       "<thead>\n",
       "<tr><th>model_id                                           </th><th style=\"text-align: right;\">  mean_residual_deviance</th><th style=\"text-align: right;\">   rmse</th><th style=\"text-align: right;\">   mse</th><th style=\"text-align: right;\">    mae</th><th style=\"text-align: right;\">    rmsle</th></tr>\n",
       "</thead>\n",
       "<tbody>\n",
       "<tr><td>StackedEnsemble_AllModels_AutoML_20201005_205010   </td><td style=\"text-align: right;\">                  277757</td><td style=\"text-align: right;\">527.027</td><td style=\"text-align: right;\">277757</td><td style=\"text-align: right;\">266.871</td><td style=\"text-align: right;\">0.0932635</td></tr>\n",
       "<tr><td>StackedEnsemble_BestOfFamily_AutoML_20201005_205010</td><td style=\"text-align: right;\">                  283206</td><td style=\"text-align: right;\">532.171</td><td style=\"text-align: right;\">283206</td><td style=\"text-align: right;\">270.866</td><td style=\"text-align: right;\">0.0953519</td></tr>\n",
       "<tr><td>GBM_grid__1_AutoML_20201005_205010_model_30        </td><td style=\"text-align: right;\">                  291400</td><td style=\"text-align: right;\">539.815</td><td style=\"text-align: right;\">291400</td><td style=\"text-align: right;\">270.993</td><td style=\"text-align: right;\">0.0924741</td></tr>\n",
       "<tr><td>GBM_grid__1_AutoML_20201005_205010_model_37        </td><td style=\"text-align: right;\">                  291973</td><td style=\"text-align: right;\">540.345</td><td style=\"text-align: right;\">291973</td><td style=\"text-align: right;\">278.475</td><td style=\"text-align: right;\">0.102636 </td></tr>\n",
       "<tr><td>GBM_grid__1_AutoML_20201005_205010_model_88        </td><td style=\"text-align: right;\">                  292603</td><td style=\"text-align: right;\">540.928</td><td style=\"text-align: right;\">292603</td><td style=\"text-align: right;\">271.606</td><td style=\"text-align: right;\">0.0940889</td></tr>\n",
       "<tr><td>GBM_1_AutoML_20201005_205010                       </td><td style=\"text-align: right;\">                  292873</td><td style=\"text-align: right;\">541.178</td><td style=\"text-align: right;\">292873</td><td style=\"text-align: right;\">281.222</td><td style=\"text-align: right;\">0.103142 </td></tr>\n",
       "<tr><td>GBM_3_AutoML_20201005_205010                       </td><td style=\"text-align: right;\">                  292969</td><td style=\"text-align: right;\">541.266</td><td style=\"text-align: right;\">292969</td><td style=\"text-align: right;\">275.851</td><td style=\"text-align: right;\">0.0991401</td></tr>\n",
       "<tr><td>GBM_grid__1_AutoML_20201005_205010_model_77        </td><td style=\"text-align: right;\">                  293118</td><td style=\"text-align: right;\">541.403</td><td style=\"text-align: right;\">293118</td><td style=\"text-align: right;\">284.877</td><td style=\"text-align: right;\">0.106464 </td></tr>\n",
       "<tr><td>GBM_grid__1_AutoML_20201005_205010_model_22        </td><td style=\"text-align: right;\">                  293353</td><td style=\"text-align: right;\">541.621</td><td style=\"text-align: right;\">293353</td><td style=\"text-align: right;\">273.787</td><td style=\"text-align: right;\">0.0973496</td></tr>\n",
       "<tr><td>GBM_grid__1_AutoML_20201005_205010_model_93        </td><td style=\"text-align: right;\">                  294063</td><td style=\"text-align: right;\">542.275</td><td style=\"text-align: right;\">294063</td><td style=\"text-align: right;\">271.254</td><td style=\"text-align: right;\">0.0908826</td></tr>\n",
       "</tbody>\n",
       "</table>"
      ]
     },
     "metadata": {},
     "output_type": "display_data"
    },
    {
     "data": {
      "text/plain": []
     },
     "execution_count": 15,
     "metadata": {},
     "output_type": "execute_result"
    }
   ],
   "source": [
    "diamons_model3.leaderboard\n"
   ]
  },
  {
   "cell_type": "code",
   "execution_count": 17,
   "metadata": {},
   "outputs": [],
   "source": [
    "predictors2 = [\"carat\",\"color\",\"cut\",\"clarity\",\"depth\",\"table\",\"x\",\"y\",\"z\"]"
   ]
  },
  {
   "cell_type": "code",
   "execution_count": 18,
   "metadata": {
    "scrolled": true
   },
   "outputs": [
    {
     "name": "stdout",
     "output_type": "stream",
     "text": [
      "AutoML progress: |\n",
      "07:23:10.697: User specified a validation frame with cross-validation still enabled. Please note that the models will still be validated using cross-validation only, the validation frame will be used to provide purely informative validation metrics on the trained models.\n",
      "\n",
      "████████████████████████████████████████████████████████| 100%\n"
     ]
    }
   ],
   "source": [
    "from h2o.estimators import H2OSupportVectorMachineEstimator\n",
    "from h2o.automl import H2OAutoML\n",
    "diamons_model4 = H2OAutoML(verbosity = \"warn\")\n",
    "#for i in range(0,5):\n",
    "train, valid = df2.split_frame(ratios = [.8])\n",
    "diamons_model4.train(x=predictors2,\n",
    "               y=response,\n",
    "               training_frame=train,\n",
    "               validation_frame=valid\n",
    "                   )\n"
   ]
  },
  {
   "cell_type": "code",
   "execution_count": 19,
   "metadata": {},
   "outputs": [
    {
     "data": {
      "text/html": [
       "<table>\n",
       "<thead>\n",
       "<tr><th>model_id                                           </th><th style=\"text-align: right;\">  mean_residual_deviance</th><th style=\"text-align: right;\">   rmse</th><th style=\"text-align: right;\">   mse</th><th style=\"text-align: right;\">    mae</th><th style=\"text-align: right;\">    rmsle</th></tr>\n",
       "</thead>\n",
       "<tbody>\n",
       "<tr><td>StackedEnsemble_AllModels_AutoML_20201006_072310   </td><td style=\"text-align: right;\">                  285690</td><td style=\"text-align: right;\">534.5  </td><td style=\"text-align: right;\">285690</td><td style=\"text-align: right;\">264.931</td><td style=\"text-align: right;\">0.0911306</td></tr>\n",
       "<tr><td>StackedEnsemble_BestOfFamily_AutoML_20201006_072310</td><td style=\"text-align: right;\">                  288417</td><td style=\"text-align: right;\">537.045</td><td style=\"text-align: right;\">288417</td><td style=\"text-align: right;\">269.177</td><td style=\"text-align: right;\">0.0937828</td></tr>\n",
       "<tr><td>GBM_grid__1_AutoML_20201006_072310_model_15        </td><td style=\"text-align: right;\">                  296287</td><td style=\"text-align: right;\">544.323</td><td style=\"text-align: right;\">296287</td><td style=\"text-align: right;\">275.559</td><td style=\"text-align: right;\">0.0963073</td></tr>\n",
       "<tr><td>GBM_2_AutoML_20201006_072310                       </td><td style=\"text-align: right;\">                  296362</td><td style=\"text-align: right;\">544.391</td><td style=\"text-align: right;\">296362</td><td style=\"text-align: right;\">280.089</td><td style=\"text-align: right;\">0.103858 </td></tr>\n",
       "<tr><td>GBM_1_AutoML_20201006_072310                       </td><td style=\"text-align: right;\">                  296507</td><td style=\"text-align: right;\">544.525</td><td style=\"text-align: right;\">296507</td><td style=\"text-align: right;\">280.561</td><td style=\"text-align: right;\">0.101452 </td></tr>\n",
       "<tr><td>GBM_grid__1_AutoML_20201006_072310_model_38        </td><td style=\"text-align: right;\">                  297091</td><td style=\"text-align: right;\">545.06 </td><td style=\"text-align: right;\">297091</td><td style=\"text-align: right;\">273.355</td><td style=\"text-align: right;\">0.0904589</td></tr>\n",
       "<tr><td>GBM_4_AutoML_20201006_072310                       </td><td style=\"text-align: right;\">                  297144</td><td style=\"text-align: right;\">545.109</td><td style=\"text-align: right;\">297144</td><td style=\"text-align: right;\">272.7  </td><td style=\"text-align: right;\">0.0923862</td></tr>\n",
       "<tr><td>GBM_grid__1_AutoML_20201006_072310_model_81        </td><td style=\"text-align: right;\">                  297257</td><td style=\"text-align: right;\">545.213</td><td style=\"text-align: right;\">297257</td><td style=\"text-align: right;\">271.312</td><td style=\"text-align: right;\">0.0901792</td></tr>\n",
       "<tr><td>GBM_3_AutoML_20201006_072310                       </td><td style=\"text-align: right;\">                  297428</td><td style=\"text-align: right;\">545.369</td><td style=\"text-align: right;\">297428</td><td style=\"text-align: right;\">276.751</td><td style=\"text-align: right;\">0.0982561</td></tr>\n",
       "<tr><td>GBM_grid__1_AutoML_20201006_072310_model_73        </td><td style=\"text-align: right;\">                  298282</td><td style=\"text-align: right;\">546.152</td><td style=\"text-align: right;\">298282</td><td style=\"text-align: right;\">271.828</td><td style=\"text-align: right;\">0.0895159</td></tr>\n",
       "</tbody>\n",
       "</table>"
      ]
     },
     "metadata": {},
     "output_type": "display_data"
    },
    {
     "data": {
      "text/plain": []
     },
     "execution_count": 19,
     "metadata": {},
     "output_type": "execute_result"
    }
   ],
   "source": [
    "diamons_model4.leaderboard"
   ]
  },
  {
   "cell_type": "code",
   "execution_count": 20,
   "metadata": {},
   "outputs": [
    {
     "name": "stdout",
     "output_type": "stream",
     "text": [
      "Parse progress: |█████████████████████████████████████████████████████████| 100%\n",
      "Parse progress: |█████████████████████████████████████████████████████████| 100%\n"
     ]
    }
   ],
   "source": [
    "df3 = h2o.import_file(path=\"output/train_all.csv\")\n",
    "test3 = h2o.import_file(path=\"inputs/predict.csv\")"
   ]
  },
  {
   "cell_type": "code",
   "execution_count": 21,
   "metadata": {},
   "outputs": [],
   "source": [
    "test3 = test3.as_data_frame()"
   ]
  },
  {
   "cell_type": "code",
   "execution_count": 22,
   "metadata": {},
   "outputs": [],
   "source": [
    "test3[\"cut\"] = test3[\"cut\"].apply(cutchanger)\n",
    "test3[\"color\"] = test3[\"color\"].apply(colorchanger)\n",
    "test3[\"clarity\"] = test3[\"clarity\"].apply(clarytychanger)"
   ]
  },
  {
   "cell_type": "code",
   "execution_count": 23,
   "metadata": {},
   "outputs": [],
   "source": [
    "response= \"price\""
   ]
  },
  {
   "cell_type": "code",
   "execution_count": 24,
   "metadata": {},
   "outputs": [],
   "source": [
    "predictors = [\"carat\",\"color\",\"cut\",\"clarity\",\"table\",\"depth\",\"x\",\"y\",\"z\"]"
   ]
  },
  {
   "cell_type": "code",
   "execution_count": null,
   "metadata": {},
   "outputs": [
    {
     "name": "stdout",
     "output_type": "stream",
     "text": [
      "AutoML progress: |\n",
      "08:18:50.954: User specified a validation frame with cross-validation still enabled. Please note that the models will still be validated using cross-validation only, the validation frame will be used to provide purely informative validation metrics on the trained models.\n",
      "\n",
      "███████████████████████████████████████████"
     ]
    }
   ],
   "source": [
    "from h2o.estimators import H2OSupportVectorMachineEstimator\n",
    "from h2o.automl import H2OAutoML\n",
    "diamons_model5 = H2OAutoML(verbosity = \"warn\")\n",
    "#for i in range(0,5):\n",
    "train, valid = df.split_frame(ratios = [.8])\n",
    "diamons_model5.train(x=predictors,\n",
    "               y=response,\n",
    "               training_frame=train,\n",
    "               validation_frame=valid\n",
    "                   )\n"
   ]
  },
  {
   "cell_type": "code",
   "execution_count": null,
   "metadata": {},
   "outputs": [],
   "source": [
    "diamons_model5.leaderboard"
   ]
  },
  {
   "cell_type": "code",
   "execution_count": null,
   "metadata": {},
   "outputs": [],
   "source": []
  },
  {
   "cell_type": "code",
   "execution_count": null,
   "metadata": {},
   "outputs": [],
   "source": []
  }
 ],
 "metadata": {
  "kernelspec": {
   "display_name": "Python 3",
   "language": "python",
   "name": "python3"
  },
  "language_info": {
   "codemirror_mode": {
    "name": "ipython",
    "version": 3
   },
   "file_extension": ".py",
   "mimetype": "text/x-python",
   "name": "python",
   "nbconvert_exporter": "python",
   "pygments_lexer": "ipython3",
   "version": "3.8.2"
  }
 },
 "nbformat": 4,
 "nbformat_minor": 4
}
